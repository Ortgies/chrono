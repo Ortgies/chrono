{
 "cells": [
  {
   "cell_type": "code",
   "execution_count": 2,
   "metadata": {},
   "outputs": [],
   "source": [
    "import pandas as pd\n",
    "import numpy as np\n",
    "import seaborn as sns\n",
    "import matplotlib as plt"
   ]
  },
  {
   "cell_type": "code",
   "execution_count": 3,
   "metadata": {},
   "outputs": [],
   "source": [
    "## ignore the future decpreciation warnings in CatBoost and RandomForest\n",
    "def warn(*args, **kwargs):\n",
    "    pass\n",
    "import warnings\n",
    "warnings.warn = warn"
   ]
  },
  {
   "cell_type": "code",
   "execution_count": 4,
   "metadata": {},
   "outputs": [
    {
     "name": "stdout",
     "output_type": "stream",
     "text": [
      "(46090, 29)\n"
     ]
    },
    {
     "data": {
      "text/html": [
       "<div>\n",
       "<style scoped>\n",
       "    .dataframe tbody tr th:only-of-type {\n",
       "        vertical-align: middle;\n",
       "    }\n",
       "\n",
       "    .dataframe tbody tr th {\n",
       "        vertical-align: top;\n",
       "    }\n",
       "\n",
       "    .dataframe thead th {\n",
       "        text-align: right;\n",
       "    }\n",
       "</style>\n",
       "<table border=\"1\" class=\"dataframe\">\n",
       "  <thead>\n",
       "    <tr style=\"text-align: right;\">\n",
       "      <th></th>\n",
       "      <th>Bracelet material</th>\n",
       "      <th>Brand</th>\n",
       "      <th>Case diameter</th>\n",
       "      <th>Case material</th>\n",
       "      <th>Condition</th>\n",
       "      <th>Dial</th>\n",
       "      <th>Gender</th>\n",
       "      <th>Model</th>\n",
       "      <th>Movement</th>\n",
       "      <th>Scope of delivery</th>\n",
       "      <th>...</th>\n",
       "      <th>Chronograph</th>\n",
       "      <th>GMT</th>\n",
       "      <th>Tachymeter</th>\n",
       "      <th>Moon phase</th>\n",
       "      <th>Annual calendar</th>\n",
       "      <th>Perpetual calendar</th>\n",
       "      <th>Tourbillon</th>\n",
       "      <th>Flyback</th>\n",
       "      <th>Alarm</th>\n",
       "      <th>Country</th>\n",
       "    </tr>\n",
       "  </thead>\n",
       "  <tbody>\n",
       "    <tr>\n",
       "      <th>0</th>\n",
       "      <td>Steel</td>\n",
       "      <td>Bulgari</td>\n",
       "      <td>41.0</td>\n",
       "      <td>Steel</td>\n",
       "      <td>New</td>\n",
       "      <td>Black</td>\n",
       "      <td>Men's watch/Unisex</td>\n",
       "      <td>Octo</td>\n",
       "      <td>Automatic</td>\n",
       "      <td>Original box, original papers</td>\n",
       "      <td>...</td>\n",
       "      <td>0</td>\n",
       "      <td>0</td>\n",
       "      <td>0</td>\n",
       "      <td>0</td>\n",
       "      <td>0</td>\n",
       "      <td>0</td>\n",
       "      <td>0</td>\n",
       "      <td>0</td>\n",
       "      <td>0</td>\n",
       "      <td>United States of America</td>\n",
       "    </tr>\n",
       "    <tr>\n",
       "      <th>1</th>\n",
       "      <td>Steel</td>\n",
       "      <td>Tissot</td>\n",
       "      <td>39.0</td>\n",
       "      <td>Steel</td>\n",
       "      <td>New</td>\n",
       "      <td>Mother of pearl</td>\n",
       "      <td>Men's watch/Unisex</td>\n",
       "      <td>PR 100</td>\n",
       "      <td>Quartz</td>\n",
       "      <td>Original box, no original papers</td>\n",
       "      <td>...</td>\n",
       "      <td>0</td>\n",
       "      <td>0</td>\n",
       "      <td>0</td>\n",
       "      <td>0</td>\n",
       "      <td>0</td>\n",
       "      <td>0</td>\n",
       "      <td>0</td>\n",
       "      <td>0</td>\n",
       "      <td>0</td>\n",
       "      <td>Japan</td>\n",
       "    </tr>\n",
       "    <tr>\n",
       "      <th>2</th>\n",
       "      <td>Leather</td>\n",
       "      <td>Mido</td>\n",
       "      <td>41.0</td>\n",
       "      <td>Steel</td>\n",
       "      <td>New</td>\n",
       "      <td>Silver</td>\n",
       "      <td>Men's watch/Unisex</td>\n",
       "      <td>Belluna</td>\n",
       "      <td>Automatic</td>\n",
       "      <td>Original box, original papers</td>\n",
       "      <td>...</td>\n",
       "      <td>0</td>\n",
       "      <td>0</td>\n",
       "      <td>0</td>\n",
       "      <td>0</td>\n",
       "      <td>0</td>\n",
       "      <td>0</td>\n",
       "      <td>0</td>\n",
       "      <td>0</td>\n",
       "      <td>0</td>\n",
       "      <td>Japan</td>\n",
       "    </tr>\n",
       "    <tr>\n",
       "      <th>3</th>\n",
       "      <td>Steel</td>\n",
       "      <td>Mido</td>\n",
       "      <td>42.0</td>\n",
       "      <td>Steel</td>\n",
       "      <td>New</td>\n",
       "      <td>Black</td>\n",
       "      <td>Men's watch/Unisex</td>\n",
       "      <td>Multifort GMT</td>\n",
       "      <td>Automatic</td>\n",
       "      <td>Original box, original papers</td>\n",
       "      <td>...</td>\n",
       "      <td>0</td>\n",
       "      <td>0</td>\n",
       "      <td>0</td>\n",
       "      <td>0</td>\n",
       "      <td>0</td>\n",
       "      <td>0</td>\n",
       "      <td>0</td>\n",
       "      <td>0</td>\n",
       "      <td>0</td>\n",
       "      <td>Japan</td>\n",
       "    </tr>\n",
       "    <tr>\n",
       "      <th>4</th>\n",
       "      <td>Leather</td>\n",
       "      <td>Seiko</td>\n",
       "      <td>42.0</td>\n",
       "      <td>Steel</td>\n",
       "      <td>Unworn</td>\n",
       "      <td>Black</td>\n",
       "      <td>Men's watch/Unisex</td>\n",
       "      <td>Kinetic</td>\n",
       "      <td>Quartz</td>\n",
       "      <td>Original box, original papers</td>\n",
       "      <td>...</td>\n",
       "      <td>0</td>\n",
       "      <td>0</td>\n",
       "      <td>0</td>\n",
       "      <td>0</td>\n",
       "      <td>0</td>\n",
       "      <td>0</td>\n",
       "      <td>0</td>\n",
       "      <td>0</td>\n",
       "      <td>0</td>\n",
       "      <td>Japan</td>\n",
       "    </tr>\n",
       "  </tbody>\n",
       "</table>\n",
       "<p>5 rows × 29 columns</p>\n",
       "</div>"
      ],
      "text/plain": [
       "  Bracelet material    Brand  Case diameter Case material Condition  \\\n",
       "0             Steel  Bulgari           41.0         Steel       New   \n",
       "1             Steel   Tissot           39.0         Steel       New   \n",
       "2           Leather     Mido           41.0         Steel       New   \n",
       "3             Steel     Mido           42.0         Steel       New   \n",
       "4           Leather    Seiko           42.0         Steel    Unworn   \n",
       "\n",
       "              Dial              Gender          Model   Movement  \\\n",
       "0            Black  Men's watch/Unisex           Octo  Automatic   \n",
       "1  Mother of pearl  Men's watch/Unisex         PR 100     Quartz   \n",
       "2           Silver  Men's watch/Unisex        Belluna  Automatic   \n",
       "3            Black  Men's watch/Unisex  Multifort GMT  Automatic   \n",
       "4            Black  Men's watch/Unisex        Kinetic     Quartz   \n",
       "\n",
       "                  Scope of delivery  ...  Chronograph GMT  Tachymeter  \\\n",
       "0     Original box, original papers  ...            0   0           0   \n",
       "1  Original box, no original papers  ...            0   0           0   \n",
       "2     Original box, original papers  ...            0   0           0   \n",
       "3     Original box, original papers  ...            0   0           0   \n",
       "4     Original box, original papers  ...            0   0           0   \n",
       "\n",
       "   Moon phase Annual calendar  Perpetual calendar  Tourbillon  Flyback  Alarm  \\\n",
       "0           0               0                   0           0        0      0   \n",
       "1           0               0                   0           0        0      0   \n",
       "2           0               0                   0           0        0      0   \n",
       "3           0               0                   0           0        0      0   \n",
       "4           0               0                   0           0        0      0   \n",
       "\n",
       "                    Country  \n",
       "0  United States of America  \n",
       "1                     Japan  \n",
       "2                     Japan  \n",
       "3                     Japan  \n",
       "4                     Japan  \n",
       "\n",
       "[5 rows x 29 columns]"
      ]
     },
     "execution_count": 4,
     "metadata": {},
     "output_type": "execute_result"
    }
   ],
   "source": [
    "df = pd.read_csv('data_modified.csv', low_memory=False)\n",
    "df = df.drop(columns=['Unnamed: 0', 'Description', 'Reference number', 'Location', 'Functions'])\n",
    "df = df.dropna()\n",
    "print(df.shape)\n",
    "df.head()"
   ]
  },
  {
   "cell_type": "markdown",
   "metadata": {},
   "source": [
    "# 1. Exploratory analysis\n",
    "\n",
    "To see how suitable some of the features are to differentiate between different watch brands, I examine their distribution between the top 10 brands by number of offerings. <br>\n",
    "I use the odds-ratio (OR) to determine how the values of a features impact the likelihood that a watch belongs to a certain brand. <br> \n",
    "The odds ratio is defined as the odds that a watch is of a given brand divided by the odds that a watch is of a given brand when the feature has a certain value. For example, if the brand is 'Omega' and the value of the feature 'Movement' is 'Manual winding', an Odds-ratio of 5 implies that a watch with a hand-wound movement is 5 times more likely to be an Omega compared to the base probability.\n",
    "\n",
    "\\begin{equation*}\n",
    "OR^{>1} = \\frac{R(Brand)}{R(Brand^{feat})}\n",
    "\\end{equation*}\n",
    "\n",
    "A given feature-value can also decrease the odds of a certain brand to be present. The odds-ratio would then be between 0 and 1. <br>\n",
    "To make this case more comparable, I modify Odds-ratios below 1 by taking the negative reciprocal. <br>\n",
    "To follow the example above, if the brand is 'Rolex' and the value of the feature 'Movement' is 'Manual winding', an Odds-ratio of -4 implies that a watch with a hand-wound movement is 4 times less likely to be a Rolex compared to the base probability.\n",
    "\n",
    "\\begin{equation*}\n",
    "OR^{<1} = -\\frac{1}{OR^{>1}}\n",
    "\\end{equation*}\n",
    "\n",
    "Lastly, there are also cases where a given brand never has a certain feature-value. Or alternatively, a given feature-value is only ever displayed by one specific brand. <br>\n",
    "The odds-ratio would be zero in this case. I replace the odds-ratio with -999 or 999 respectively, to make this information more visible.\n",
    "\n",
    "The individual features will probably increase their information value significantly when combined with other features. <br>\n",
    "<br>\n",
    "## Note\n",
    "Sadly the colored dataframes are not displayed on github. <br>\n",
    "The correct colors can be viewed here: https://nbviewer.jupyter.org/github/Ortgies/chrono/blob/main/classification.ipynb"
   ]
  },
  {
   "cell_type": "code",
   "execution_count": 5,
   "metadata": {},
   "outputs": [
    {
     "name": "stdout",
     "output_type": "stream",
     "text": [
      "Rolex             13050\n",
      "Omega              4438\n",
      "Cartier            2107\n",
      "Breitling          1943\n",
      "Seiko              1917\n",
      "TAG Heuer          1715\n",
      "Longines           1484\n",
      "Hublot             1227\n",
      "Patek Philippe     1167\n",
      "Tudor              1138\n",
      "Name: Brand, dtype: int64\n"
     ]
    }
   ],
   "source": [
    "## get the ten most frequent brands\n",
    "print(df['Brand'].value_counts()[0:10])\n",
    "top_brands = df['Brand'].value_counts()[0:10]"
   ]
  },
  {
   "cell_type": "code",
   "execution_count": 6,
   "metadata": {},
   "outputs": [],
   "source": [
    "## calculate odds-ratio based on the formula above\n",
    "def get_brand_dist(feature):\n",
    "    t = pd.DataFrame(columns=df[feature].unique(), index=top_brands.index.values)\n",
    "    \n",
    "    for brand in top_brands.index.values:\n",
    "        odd1 = len(df[df['Brand'] == brand]) / len(df[(df['Brand'].isin(top_brands.index.values)) & (df['Brand'] != brand)])\n",
    "        r = []\n",
    "        for value in df[feature].unique():\n",
    "            ## exception if none of the top-10 brands have a certain feature value\n",
    "            try:\n",
    "                target = len(df[(df['Brand'] == brand) & (df[feature] == value)])\n",
    "                rest = len(df[(df['Brand'].isin(top_brands.index.values)) & (df['Brand'] != brand) & (df[feature] == value)])\n",
    "                \n",
    "                if target == 0:\n",
    "                    x = -999\n",
    "                elif rest == 0:\n",
    "                    x = 999\n",
    "                else:\n",
    "                    x = (target/rest)/odd1\n",
    "                    if x < 1:\n",
    "                        x = -1/x\n",
    "            except:\n",
    "                x = 0\n",
    "            r.append(x)\n",
    "        t.loc[brand] = r\n",
    "    \n",
    "    t = t.apply(pd.to_numeric)\n",
    "    return(t)"
   ]
  },
  {
   "cell_type": "code",
   "execution_count": 7,
   "metadata": {},
   "outputs": [],
   "source": [
    "## apply styling to the dataframe, red hues for reduced odds, green hues for increased odds\n",
    "def centered_background_gradient(s):\n",
    "    cmap = plt.cm.get_cmap('RdYlGn')\n",
    "    norm = plt.colors.TwoSlopeNorm(vmin=-30, vcenter=0, vmax=30)\n",
    "    return ['background-color: {:s}'.format(plt.colors.to_hex(c.flatten())) for c in cmap(norm(s.values))]"
   ]
  },
  {
   "cell_type": "markdown",
   "metadata": {},
   "source": [
    "## 1.1 Movement\n",
    "The type of movement offers some differentiation between brands. <br>\n",
    "Automatic movements are the default, so the odds ratios are close to 1 in most cases. <br>\n",
    "A quartz movement significantly increases the odds that a watch is made by Cartier. In contrast to this, Rolex and its daughter company Tudor have almost no quartz watches in their portfolio (Rolex has only produced a single quartz model in their history). <br>\n",
    "A manually-wound watch is more likely to be an Omega, famous for their hand-wound Speedmaster, or one of the many hand-wound dress watches by Patek Phillipe."
   ]
  },
  {
   "cell_type": "code",
   "execution_count": 8,
   "metadata": {},
   "outputs": [
    {
     "data": {
      "text/html": [
       "<style  type=\"text/css\" >\n",
       "#T_4c67d_row0_col0,#T_4c67d_row2_col2,#T_4c67d_row9_col0{\n",
       "            background-color:  #f7fcb4;\n",
       "        }#T_4c67d_row0_col1{\n",
       "            background-color:  #a50026;\n",
       "        }#T_4c67d_row0_col2{\n",
       "            background-color:  #fee797;\n",
       "        }#T_4c67d_row1_col0,#T_4c67d_row5_col0,#T_4c67d_row6_col0,#T_4c67d_row8_col0,#T_4c67d_row8_col1{\n",
       "            background-color:  #fff8b4;\n",
       "        }#T_4c67d_row1_col1,#T_4c67d_row4_col0{\n",
       "            background-color:  #fffab6;\n",
       "        }#T_4c67d_row1_col2{\n",
       "            background-color:  #d9ef8b;\n",
       "        }#T_4c67d_row2_col0,#T_4c67d_row3_col2{\n",
       "            background-color:  #fff5ae;\n",
       "        }#T_4c67d_row2_col1,#T_4c67d_row8_col2{\n",
       "            background-color:  #ddf191;\n",
       "        }#T_4c67d_row3_col0,#T_4c67d_row3_col1,#T_4c67d_row7_col0{\n",
       "            background-color:  #f8fcb6;\n",
       "        }#T_4c67d_row4_col1{\n",
       "            background-color:  #f2faae;\n",
       "        }#T_4c67d_row4_col2{\n",
       "            background-color:  #fff0a6;\n",
       "        }#T_4c67d_row5_col1{\n",
       "            background-color:  #e9f6a1;\n",
       "        }#T_4c67d_row5_col2{\n",
       "            background-color:  #fece7c;\n",
       "        }#T_4c67d_row6_col1{\n",
       "            background-color:  #ecf7a6;\n",
       "        }#T_4c67d_row6_col2{\n",
       "            background-color:  #fdad60;\n",
       "        }#T_4c67d_row7_col1{\n",
       "            background-color:  #fff7b2;\n",
       "        }#T_4c67d_row7_col2{\n",
       "            background-color:  #fff2aa;\n",
       "        }#T_4c67d_row9_col1{\n",
       "            background-color:  #f99153;\n",
       "        }#T_4c67d_row9_col2{\n",
       "            background-color:  #f7814c;\n",
       "        }</style><table id=\"T_4c67d_\" ><thead>    <tr>        <th class=\"blank level0\" ></th>        <th class=\"col_heading level0 col0\" >Automatic</th>        <th class=\"col_heading level0 col1\" >Quartz</th>        <th class=\"col_heading level0 col2\" >Manual winding</th>    </tr></thead><tbody>\n",
       "                <tr>\n",
       "                        <th id=\"T_4c67d_level0_row0\" class=\"row_heading level0 row0\" >Rolex</th>\n",
       "                        <td id=\"T_4c67d_row0_col0\" class=\"data row0 col0\" >1.382586</td>\n",
       "                        <td id=\"T_4c67d_row0_col1\" class=\"data row0 col1\" >-33.796308</td>\n",
       "                        <td id=\"T_4c67d_row0_col2\" class=\"data row0 col2\" >-4.582402</td>\n",
       "            </tr>\n",
       "            <tr>\n",
       "                        <th id=\"T_4c67d_level0_row1\" class=\"row_heading level0 row1\" >Omega</th>\n",
       "                        <td id=\"T_4c67d_row1_col0\" class=\"data row1 col0\" >-1.217173</td>\n",
       "                        <td id=\"T_4c67d_row1_col1\" class=\"data row1 col1\" >-1.026445</td>\n",
       "                        <td id=\"T_4c67d_row1_col2\" class=\"data row1 col2\" >5.880307</td>\n",
       "            </tr>\n",
       "            <tr>\n",
       "                        <th id=\"T_4c67d_level0_row2\" class=\"row_heading level0 row2\" >Cartier</th>\n",
       "                        <td id=\"T_4c67d_row2_col0\" class=\"data row2 col0\" >-2.020800</td>\n",
       "                        <td id=\"T_4c67d_row2_col1\" class=\"data row2 col1\" >5.357727</td>\n",
       "                        <td id=\"T_4c67d_row2_col2\" class=\"data row2 col2\" >1.356001</td>\n",
       "            </tr>\n",
       "            <tr>\n",
       "                        <th id=\"T_4c67d_level0_row3\" class=\"row_heading level0 row3\" >Breitling</th>\n",
       "                        <td id=\"T_4c67d_row3_col0\" class=\"data row3 col0\" >1.015900</td>\n",
       "                        <td id=\"T_4c67d_row3_col1\" class=\"data row3 col1\" >1.110050</td>\n",
       "                        <td id=\"T_4c67d_row3_col2\" class=\"data row3 col2\" >-1.904558</td>\n",
       "            </tr>\n",
       "            <tr>\n",
       "                        <th id=\"T_4c67d_level0_row4\" class=\"row_heading level0 row4\" >Seiko</th>\n",
       "                        <td id=\"T_4c67d_row4_col0\" class=\"data row4 col0\" >-1.091823</td>\n",
       "                        <td id=\"T_4c67d_row4_col1\" class=\"data row4 col1\" >1.911581</td>\n",
       "                        <td id=\"T_4c67d_row4_col2\" class=\"data row4 col2\" >-2.849922</td>\n",
       "            </tr>\n",
       "            <tr>\n",
       "                        <th id=\"T_4c67d_level0_row5\" class=\"row_heading level0 row5\" >TAG Heuer</th>\n",
       "                        <td id=\"T_4c67d_row5_col0\" class=\"data row5 col0\" >-1.327220</td>\n",
       "                        <td id=\"T_4c67d_row5_col1\" class=\"data row5 col1\" >3.351334</td>\n",
       "                        <td id=\"T_4c67d_row5_col2\" class=\"data row5 col2\" >-8.147018</td>\n",
       "            </tr>\n",
       "            <tr>\n",
       "                        <th id=\"T_4c67d_level0_row6\" class=\"row_heading level0 row6\" >Longines</th>\n",
       "                        <td id=\"T_4c67d_row6_col0\" class=\"data row6 col0\" >-1.262322</td>\n",
       "                        <td id=\"T_4c67d_row6_col1\" class=\"data row6 col1\" >3.002324</td>\n",
       "                        <td id=\"T_4c67d_row6_col2\" class=\"data row6 col2\" >-12.024807</td>\n",
       "            </tr>\n",
       "            <tr>\n",
       "                        <th id=\"T_4c67d_level0_row7\" class=\"row_heading level0 row7\" >Hublot</th>\n",
       "                        <td id=\"T_4c67d_row7_col0\" class=\"data row7 col0\" >1.099246</td>\n",
       "                        <td id=\"T_4c67d_row7_col1\" class=\"data row7 col1\" >-1.617205</td>\n",
       "                        <td id=\"T_4c67d_row7_col2\" class=\"data row7 col2\" >-2.523384</td>\n",
       "            </tr>\n",
       "            <tr>\n",
       "                        <th id=\"T_4c67d_level0_row8\" class=\"row_heading level0 row8\" >Patek Philippe</th>\n",
       "                        <td id=\"T_4c67d_row8_col0\" class=\"data row8 col0\" >-1.259966</td>\n",
       "                        <td id=\"T_4c67d_row8_col1\" class=\"data row8 col1\" >-1.249786</td>\n",
       "                        <td id=\"T_4c67d_row8_col2\" class=\"data row8 col2\" >5.205007</td>\n",
       "            </tr>\n",
       "            <tr>\n",
       "                        <th id=\"T_4c67d_level0_row9\" class=\"row_heading level0 row9\" >Tudor</th>\n",
       "                        <td id=\"T_4c67d_row9_col0\" class=\"data row9 col0\" >1.210269</td>\n",
       "                        <td id=\"T_4c67d_row9_col1\" class=\"data row9 col1\" >-14.538412</td>\n",
       "                        <td id=\"T_4c67d_row9_col2\" class=\"data row9 col2\" >-15.974232</td>\n",
       "            </tr>\n",
       "    </tbody></table>"
      ],
      "text/plain": [
       "<pandas.io.formats.style.Styler at 0x2553017da60>"
      ]
     },
     "execution_count": 8,
     "metadata": {},
     "output_type": "execute_result"
    }
   ],
   "source": [
    "get_brand_dist('Movement').style.apply(centered_background_gradient)"
   ]
  },
  {
   "cell_type": "markdown",
   "metadata": {},
   "source": [
    "## 1.2 Crystal\n",
    "As with the movement, the default value, a sapphire crystal, offers little information for separating brands. <br>\n",
    "Mineral glass is rarely found in the second most expensive brand on this list, Rolex. The use of mineral glass increases the odds that a watch is made by Seiko, the most affordable brand on this list fourty-fold. <br>\n",
    "Plexiglass is used by most manufacturers, mostly in vintage models. Hublot, the youngest brand on the list does not have a single watch with a plexiglass crystal, signified by the OR of -999."
   ]
  },
  {
   "cell_type": "code",
   "execution_count": 9,
   "metadata": {},
   "outputs": [
    {
     "data": {
      "text/html": [
       "<style  type=\"text/css\" >\n",
       "#T_4fc92_row0_col0,#T_4fc92_row2_col0,#T_4fc92_row3_col0,#T_4fc92_row5_col0,#T_4fc92_row6_col0,#T_4fc92_row7_col0,#T_4fc92_row8_col0,#T_4fc92_row9_col0{\n",
       "            background-color:  #f8fcb6;\n",
       "        }#T_4fc92_row0_col1,#T_4fc92_row7_col2{\n",
       "            background-color:  #a50026;\n",
       "        }#T_4fc92_row0_col2,#T_4fc92_row2_col1{\n",
       "            background-color:  #f7fcb4;\n",
       "        }#T_4fc92_row1_col0{\n",
       "            background-color:  #fff8b4;\n",
       "        }#T_4fc92_row1_col1,#T_4fc92_row4_col0{\n",
       "            background-color:  #fff7b2;\n",
       "        }#T_4fc92_row1_col2{\n",
       "            background-color:  #e5f49b;\n",
       "        }#T_4fc92_row2_col2{\n",
       "            background-color:  #f88c51;\n",
       "        }#T_4fc92_row3_col1,#T_4fc92_row4_col2{\n",
       "            background-color:  #fff2aa;\n",
       "        }#T_4fc92_row3_col2,#T_4fc92_row8_col2{\n",
       "            background-color:  #fee593;\n",
       "        }#T_4fc92_row4_col1{\n",
       "            background-color:  #006837;\n",
       "        }#T_4fc92_row5_col1{\n",
       "            background-color:  #fdc574;\n",
       "        }#T_4fc92_row5_col2{\n",
       "            background-color:  #fee28f;\n",
       "        }#T_4fc92_row6_col1{\n",
       "            background-color:  #fdaf62;\n",
       "        }#T_4fc92_row6_col2{\n",
       "            background-color:  #feec9f;\n",
       "        }#T_4fc92_row7_col1{\n",
       "            background-color:  #fba35c;\n",
       "        }#T_4fc92_row8_col1{\n",
       "            background-color:  #fff3ac;\n",
       "        }#T_4fc92_row9_col1{\n",
       "            background-color:  #fdc776;\n",
       "        }#T_4fc92_row9_col2{\n",
       "            background-color:  #fffab6;\n",
       "        }</style><table id=\"T_4fc92_\" ><thead>    <tr>        <th class=\"blank level0\" ></th>        <th class=\"col_heading level0 col0\" >Sapphire crystal</th>        <th class=\"col_heading level0 col1\" >Mineral Glass</th>        <th class=\"col_heading level0 col2\" >Plexiglass</th>    </tr></thead><tbody>\n",
       "                <tr>\n",
       "                        <th id=\"T_4fc92_level0_row0\" class=\"row_heading level0 row0\" >Rolex</th>\n",
       "                        <td id=\"T_4fc92_row0_col0\" class=\"data row0 col0\" >1.042205</td>\n",
       "                        <td id=\"T_4fc92_row0_col1\" class=\"data row0 col1\" >-53.133080</td>\n",
       "                        <td id=\"T_4fc92_row0_col2\" class=\"data row0 col2\" >1.190534</td>\n",
       "            </tr>\n",
       "            <tr>\n",
       "                        <th id=\"T_4fc92_level0_row1\" class=\"row_heading level0 row1\" >Omega</th>\n",
       "                        <td id=\"T_4fc92_row1_col0\" class=\"data row1 col0\" >-1.237836</td>\n",
       "                        <td id=\"T_4fc92_row1_col1\" class=\"data row1 col1\" >-1.429393</td>\n",
       "                        <td id=\"T_4fc92_row1_col2\" class=\"data row1 col2\" >4.054840</td>\n",
       "            </tr>\n",
       "            <tr>\n",
       "                        <th id=\"T_4fc92_level0_row2\" class=\"row_heading level0 row2\" >Cartier</th>\n",
       "                        <td id=\"T_4fc92_row2_col0\" class=\"data row2 col0\" >1.088532</td>\n",
       "                        <td id=\"T_4fc92_row2_col1\" class=\"data row2 col1\" >1.321508</td>\n",
       "                        <td id=\"T_4fc92_row2_col2\" class=\"data row2 col2\" >-15.134645</td>\n",
       "            </tr>\n",
       "            <tr>\n",
       "                        <th id=\"T_4fc92_level0_row3\" class=\"row_heading level0 row3\" >Breitling</th>\n",
       "                        <td id=\"T_4fc92_row3_col0\" class=\"data row3 col0\" >1.106615</td>\n",
       "                        <td id=\"T_4fc92_row3_col1\" class=\"data row3 col1\" >-2.568377</td>\n",
       "                        <td id=\"T_4fc92_row3_col2\" class=\"data row3 col2\" >-5.110546</td>\n",
       "            </tr>\n",
       "            <tr>\n",
       "                        <th id=\"T_4fc92_level0_row4\" class=\"row_heading level0 row4\" >Seiko</th>\n",
       "                        <td id=\"T_4fc92_row4_col0\" class=\"data row4 col0\" >-1.465228</td>\n",
       "                        <td id=\"T_4fc92_row4_col1\" class=\"data row4 col1\" >39.089873</td>\n",
       "                        <td id=\"T_4fc92_row4_col2\" class=\"data row4 col2\" >-2.448902</td>\n",
       "            </tr>\n",
       "            <tr>\n",
       "                        <th id=\"T_4fc92_level0_row5\" class=\"row_heading level0 row5\" >TAG Heuer</th>\n",
       "                        <td id=\"T_4fc92_row5_col0\" class=\"data row5 col0\" >1.118499</td>\n",
       "                        <td id=\"T_4fc92_row5_col1\" class=\"data row5 col1\" >-9.176062</td>\n",
       "                        <td id=\"T_4fc92_row5_col2\" class=\"data row5 col2\" >-5.608470</td>\n",
       "            </tr>\n",
       "            <tr>\n",
       "                        <th id=\"T_4fc92_level0_row6\" class=\"row_heading level0 row6\" >Longines</th>\n",
       "                        <td id=\"T_4fc92_row6_col0\" class=\"data row6 col0\" >1.108028</td>\n",
       "                        <td id=\"T_4fc92_row6_col1\" class=\"data row6 col1\" >-11.840151</td>\n",
       "                        <td id=\"T_4fc92_row6_col2\" class=\"data row6 col2\" >-3.630439</td>\n",
       "            </tr>\n",
       "            <tr>\n",
       "                        <th id=\"T_4fc92_level0_row7\" class=\"row_heading level0 row7\" >Hublot</th>\n",
       "                        <td id=\"T_4fc92_row7_col0\" class=\"data row7 col0\" >1.137017</td>\n",
       "                        <td id=\"T_4fc92_row7_col1\" class=\"data row7 col1\" >-12.951172</td>\n",
       "                        <td id=\"T_4fc92_row7_col2\" class=\"data row7 col2\" >-999.000000</td>\n",
       "            </tr>\n",
       "            <tr>\n",
       "                        <th id=\"T_4fc92_level0_row8\" class=\"row_heading level0 row8\" >Patek Philippe</th>\n",
       "                        <td id=\"T_4fc92_row8_col0\" class=\"data row8 col0\" >1.101876</td>\n",
       "                        <td id=\"T_4fc92_row8_col1\" class=\"data row8 col1\" >-2.272149</td>\n",
       "                        <td id=\"T_4fc92_row8_col2\" class=\"data row8 col2\" >-5.005814</td>\n",
       "            </tr>\n",
       "            <tr>\n",
       "                        <th id=\"T_4fc92_level0_row9\" class=\"row_heading level0 row9\" >Tudor</th>\n",
       "                        <td id=\"T_4fc92_row9_col0\" class=\"data row9 col0\" >1.038375</td>\n",
       "                        <td id=\"T_4fc92_row9_col1\" class=\"data row9 col1\" >-8.971427</td>\n",
       "                        <td id=\"T_4fc92_row9_col2\" class=\"data row9 col2\" >-1.070825</td>\n",
       "            </tr>\n",
       "    </tbody></table>"
      ],
      "text/plain": [
       "<pandas.io.formats.style.Styler at 0x25533f36850>"
      ]
     },
     "execution_count": 9,
     "metadata": {},
     "output_type": "execute_result"
    }
   ],
   "source": [
    "get_brand_dist('Crystal').style.apply(centered_background_gradient)"
   ]
  },
  {
   "cell_type": "markdown",
   "metadata": {},
   "source": [
    "## 1.3 Materials\n",
    "Case and bracelet materials are very useful for separating brands. <br>\n",
    "While common materials like steel and yellow gold are used by all brands to some extent, there are a lot of materials that are used by only a few manufacturers. For most materials you have at least one brand with a very high odds-ratio and multiple ones with the minimum value of -999. <br>\n",
    "For example only five brands use platinum cases and only two platinum bracelets. <br>\n",
    "Aluminium cases are used exclusively by Seiko which makes classification easy in this case."
   ]
  },
  {
   "cell_type": "code",
   "execution_count": 10,
   "metadata": {},
   "outputs": [
    {
     "data": {
      "text/html": [
       "<style  type=\"text/css\" >\n",
       "#T_5024d_row0_col0,#T_5024d_row1_col3,#T_5024d_row6_col5{\n",
       "            background-color:  #fffab6;\n",
       "        }#T_5024d_row0_col1,#T_5024d_row2_col2,#T_5024d_row3_col9,#T_5024d_row9_col7{\n",
       "            background-color:  #ecf7a6;\n",
       "        }#T_5024d_row0_col2,#T_5024d_row9_col3{\n",
       "            background-color:  #f4fab0;\n",
       "        }#T_5024d_row0_col3,#T_5024d_row0_col7,#T_5024d_row0_col8,#T_5024d_row0_col9,#T_5024d_row0_col10,#T_5024d_row0_col12,#T_5024d_row0_col13,#T_5024d_row1_col12,#T_5024d_row1_col13,#T_5024d_row2_col3,#T_5024d_row2_col7,#T_5024d_row2_col8,#T_5024d_row2_col10,#T_5024d_row2_col12,#T_5024d_row2_col13,#T_5024d_row3_col4,#T_5024d_row3_col6,#T_5024d_row3_col7,#T_5024d_row3_col8,#T_5024d_row3_col12,#T_5024d_row3_col13,#T_5024d_row4_col4,#T_5024d_row4_col5,#T_5024d_row4_col6,#T_5024d_row4_col8,#T_5024d_row4_col9,#T_5024d_row4_col10,#T_5024d_row4_col11,#T_5024d_row4_col13,#T_5024d_row5_col2,#T_5024d_row5_col4,#T_5024d_row5_col6,#T_5024d_row5_col11,#T_5024d_row5_col12,#T_5024d_row5_col13,#T_5024d_row6_col4,#T_5024d_row6_col6,#T_5024d_row6_col9,#T_5024d_row6_col10,#T_5024d_row6_col11,#T_5024d_row6_col12,#T_5024d_row6_col13,#T_5024d_row7_col10,#T_5024d_row7_col11,#T_5024d_row7_col12,#T_5024d_row7_col13,#T_5024d_row8_col3,#T_5024d_row8_col7,#T_5024d_row8_col8,#T_5024d_row8_col9,#T_5024d_row8_col10,#T_5024d_row8_col11,#T_5024d_row8_col12,#T_5024d_row8_col13,#T_5024d_row9_col4,#T_5024d_row9_col5,#T_5024d_row9_col6,#T_5024d_row9_col9,#T_5024d_row9_col10,#T_5024d_row9_col12,#T_5024d_row9_col13{\n",
       "            background-color:  #a50026;\n",
       "        }#T_5024d_row0_col4,#T_5024d_row0_col6,#T_5024d_row2_col5,#T_5024d_row5_col3{\n",
       "            background-color:  #f5fbb2;\n",
       "        }#T_5024d_row0_col5,#T_5024d_row1_col1,#T_5024d_row3_col5{\n",
       "            background-color:  #fff7b2;\n",
       "        }#T_5024d_row0_col11,#T_5024d_row5_col5{\n",
       "            background-color:  #fdb163;\n",
       "        }#T_5024d_row1_col0,#T_5024d_row1_col7,#T_5024d_row2_col1,#T_5024d_row4_col0,#T_5024d_row5_col0,#T_5024d_row5_col9,#T_5024d_row6_col0{\n",
       "            background-color:  #f7fcb4;\n",
       "        }#T_5024d_row1_col2,#T_5024d_row1_col8{\n",
       "            background-color:  #fff5ae;\n",
       "        }#T_5024d_row1_col4{\n",
       "            background-color:  #fdc171;\n",
       "        }#T_5024d_row1_col5,#T_5024d_row5_col8,#T_5024d_row6_col1{\n",
       "            background-color:  #fff6b0;\n",
       "        }#T_5024d_row1_col6{\n",
       "            background-color:  #fee08b;\n",
       "        }#T_5024d_row1_col9,#T_5024d_row6_col2{\n",
       "            background-color:  #fff0a6;\n",
       "        }#T_5024d_row1_col10{\n",
       "            background-color:  #fdc372;\n",
       "        }#T_5024d_row1_col11,#T_5024d_row3_col2{\n",
       "            background-color:  #feea9b;\n",
       "        }#T_5024d_row2_col0,#T_5024d_row3_col1{\n",
       "            background-color:  #fff8b4;\n",
       "        }#T_5024d_row2_col4{\n",
       "            background-color:  #feefa3;\n",
       "        }#T_5024d_row2_col6,#T_5024d_row4_col3{\n",
       "            background-color:  #eff8aa;\n",
       "        }#T_5024d_row2_col9{\n",
       "            background-color:  #fee491;\n",
       "        }#T_5024d_row2_col11{\n",
       "            background-color:  #148e4b;\n",
       "        }#T_5024d_row3_col0,#T_5024d_row5_col7,#T_5024d_row9_col0{\n",
       "            background-color:  #f8fcb6;\n",
       "        }#T_5024d_row3_col3,#T_5024d_row6_col8{\n",
       "            background-color:  #f2faae;\n",
       "        }#T_5024d_row3_col10,#T_5024d_row4_col12,#T_5024d_row7_col7,#T_5024d_row7_col9,#T_5024d_row9_col8{\n",
       "            background-color:  #006837;\n",
       "        }#T_5024d_row3_col11,#T_5024d_row5_col1,#T_5024d_row7_col1{\n",
       "            background-color:  #feda86;\n",
       "        }#T_5024d_row4_col1{\n",
       "            background-color:  #f67f4b;\n",
       "        }#T_5024d_row4_col2{\n",
       "            background-color:  #fa9857;\n",
       "        }#T_5024d_row4_col7{\n",
       "            background-color:  #fee999;\n",
       "        }#T_5024d_row5_col10{\n",
       "            background-color:  #feeda1;\n",
       "        }#T_5024d_row6_col3{\n",
       "            background-color:  #feec9f;\n",
       "        }#T_5024d_row6_col7{\n",
       "            background-color:  #d62f27;\n",
       "        }#T_5024d_row7_col0{\n",
       "            background-color:  #fee695;\n",
       "        }#T_5024d_row7_col2{\n",
       "            background-color:  #fede89;\n",
       "        }#T_5024d_row7_col3{\n",
       "            background-color:  #63bc62;\n",
       "        }#T_5024d_row7_col4{\n",
       "            background-color:  #fed683;\n",
       "        }#T_5024d_row7_col5{\n",
       "            background-color:  #d7ee8a;\n",
       "        }#T_5024d_row7_col6{\n",
       "            background-color:  #e95538;\n",
       "        }#T_5024d_row7_col8,#T_5024d_row8_col0{\n",
       "            background-color:  #fff1a8;\n",
       "        }#T_5024d_row8_col1{\n",
       "            background-color:  #f88c51;\n",
       "        }#T_5024d_row8_col2{\n",
       "            background-color:  #e6f59d;\n",
       "        }#T_5024d_row8_col4{\n",
       "            background-color:  #6bbf64;\n",
       "        }#T_5024d_row8_col5{\n",
       "            background-color:  #ddf191;\n",
       "        }#T_5024d_row8_col6{\n",
       "            background-color:  #b7e075;\n",
       "        }#T_5024d_row9_col1{\n",
       "            background-color:  #fff2aa;\n",
       "        }#T_5024d_row9_col2{\n",
       "            background-color:  #fdc776;\n",
       "        }#T_5024d_row9_col11{\n",
       "            background-color:  #c9e881;\n",
       "        }</style><table id=\"T_5024d_\" ><thead>    <tr>        <th class=\"blank level0\" ></th>        <th class=\"col_heading level0 col0\" >Steel</th>        <th class=\"col_heading level0 col1\" >Gold/Steel</th>        <th class=\"col_heading level0 col2\" >Yellow gold</th>        <th class=\"col_heading level0 col3\" >Titanium</th>        <th class=\"col_heading level0 col4\" >Platinum</th>        <th class=\"col_heading level0 col5\" >Rose gold</th>        <th class=\"col_heading level0 col6\" >White gold</th>        <th class=\"col_heading level0 col7\" >Ceramic</th>        <th class=\"col_heading level0 col8\" >Bronze</th>        <th class=\"col_heading level0 col9\" >Carbon</th>        <th class=\"col_heading level0 col10\" >Plastic</th>        <th class=\"col_heading level0 col11\" >Silver</th>        <th class=\"col_heading level0 col12\" >Aluminum</th>        <th class=\"col_heading level0 col13\" >Other</th>    </tr></thead><tbody>\n",
       "                <tr>\n",
       "                        <th id=\"T_5024d_level0_row0\" class=\"row_heading level0 row0\" >Rolex</th>\n",
       "                        <td id=\"T_5024d_row0_col0\" class=\"data row0 col0\" >-1.088768</td>\n",
       "                        <td id=\"T_5024d_row0_col1\" class=\"data row0 col1\" >2.996996</td>\n",
       "                        <td id=\"T_5024d_row0_col2\" class=\"data row0 col2\" >1.688069</td>\n",
       "                        <td id=\"T_5024d_row0_col3\" class=\"data row0 col3\" >-999.000000</td>\n",
       "                        <td id=\"T_5024d_row0_col4\" class=\"data row0 col4\" >1.545805</td>\n",
       "                        <td id=\"T_5024d_row0_col5\" class=\"data row0 col5\" >-1.561101</td>\n",
       "                        <td id=\"T_5024d_row0_col6\" class=\"data row0 col6\" >1.445276</td>\n",
       "                        <td id=\"T_5024d_row0_col7\" class=\"data row0 col7\" >-176.680672</td>\n",
       "                        <td id=\"T_5024d_row0_col8\" class=\"data row0 col8\" >-999.000000</td>\n",
       "                        <td id=\"T_5024d_row0_col9\" class=\"data row0 col9\" >-999.000000</td>\n",
       "                        <td id=\"T_5024d_row0_col10\" class=\"data row0 col10\" >-999.000000</td>\n",
       "                        <td id=\"T_5024d_row0_col11\" class=\"data row0 col11\" >-11.677171</td>\n",
       "                        <td id=\"T_5024d_row0_col12\" class=\"data row0 col12\" >-999</td>\n",
       "                        <td id=\"T_5024d_row0_col13\" class=\"data row0 col13\" >-999</td>\n",
       "            </tr>\n",
       "            <tr>\n",
       "                        <th id=\"T_5024d_level0_row1\" class=\"row_heading level0 row1\" >Omega</th>\n",
       "                        <td id=\"T_5024d_row1_col0\" class=\"data row1 col0\" >1.221180</td>\n",
       "                        <td id=\"T_5024d_row1_col1\" class=\"data row1 col1\" >-1.620956</td>\n",
       "                        <td id=\"T_5024d_row1_col2\" class=\"data row1 col2\" >-2.103486</td>\n",
       "                        <td id=\"T_5024d_row1_col3\" class=\"data row1 col3\" >-1.090666</td>\n",
       "                        <td id=\"T_5024d_row1_col4\" class=\"data row1 col4\" >-9.709777</td>\n",
       "                        <td id=\"T_5024d_row1_col5\" class=\"data row1 col5\" >-1.743572</td>\n",
       "                        <td id=\"T_5024d_row1_col6\" class=\"data row1 col6\" >-5.956096</td>\n",
       "                        <td id=\"T_5024d_row1_col7\" class=\"data row1 col7\" >1.275769</td>\n",
       "                        <td id=\"T_5024d_row1_col8\" class=\"data row1 col8\" >-1.964937</td>\n",
       "                        <td id=\"T_5024d_row1_col9\" class=\"data row1 col9\" >-2.843988</td>\n",
       "                        <td id=\"T_5024d_row1_col10\" class=\"data row1 col10\" >-9.479960</td>\n",
       "                        <td id=\"T_5024d_row1_col11\" class=\"data row1 col11\" >-4.050528</td>\n",
       "                        <td id=\"T_5024d_row1_col12\" class=\"data row1 col12\" >-999</td>\n",
       "                        <td id=\"T_5024d_row1_col13\" class=\"data row1 col13\" >-999</td>\n",
       "            </tr>\n",
       "            <tr>\n",
       "                        <th id=\"T_5024d_level0_row2\" class=\"row_heading level0 row2\" >Cartier</th>\n",
       "                        <td id=\"T_5024d_row2_col0\" class=\"data row2 col0\" >-1.351104</td>\n",
       "                        <td id=\"T_5024d_row2_col1\" class=\"data row2 col1\" >1.278065</td>\n",
       "                        <td id=\"T_5024d_row2_col2\" class=\"data row2 col2\" >2.895371</td>\n",
       "                        <td id=\"T_5024d_row2_col3\" class=\"data row2 col3\" >-999.000000</td>\n",
       "                        <td id=\"T_5024d_row2_col4\" class=\"data row2 col4\" >-3.151608</td>\n",
       "                        <td id=\"T_5024d_row2_col5\" class=\"data row2 col5\" >1.499097</td>\n",
       "                        <td id=\"T_5024d_row2_col6\" class=\"data row2 col6\" >2.487399</td>\n",
       "                        <td id=\"T_5024d_row2_col7\" class=\"data row2 col7\" >-999.000000</td>\n",
       "                        <td id=\"T_5024d_row2_col8\" class=\"data row2 col8\" >-999.000000</td>\n",
       "                        <td id=\"T_5024d_row2_col9\" class=\"data row2 col9\" >-5.177642</td>\n",
       "                        <td id=\"T_5024d_row2_col10\" class=\"data row2 col10\" >-999.000000</td>\n",
       "                        <td id=\"T_5024d_row2_col11\" class=\"data row2 col11\" >25.085234</td>\n",
       "                        <td id=\"T_5024d_row2_col12\" class=\"data row2 col12\" >-999</td>\n",
       "                        <td id=\"T_5024d_row2_col13\" class=\"data row2 col13\" >-999</td>\n",
       "            </tr>\n",
       "            <tr>\n",
       "                        <th id=\"T_5024d_level0_row3\" class=\"row_heading level0 row3\" >Breitling</th>\n",
       "                        <td id=\"T_5024d_row3_col0\" class=\"data row3 col0\" >1.135892</td>\n",
       "                        <td id=\"T_5024d_row3_col1\" class=\"data row3 col1\" >-1.212479</td>\n",
       "                        <td id=\"T_5024d_row3_col2\" class=\"data row3 col2\" >-4.125725</td>\n",
       "                        <td id=\"T_5024d_row3_col3\" class=\"data row3 col3\" >1.989903</td>\n",
       "                        <td id=\"T_5024d_row3_col4\" class=\"data row3 col4\" >-999.000000</td>\n",
       "                        <td id=\"T_5024d_row3_col5\" class=\"data row3 col5\" >-1.499515</td>\n",
       "                        <td id=\"T_5024d_row3_col6\" class=\"data row3 col6\" >-999.000000</td>\n",
       "                        <td id=\"T_5024d_row3_col7\" class=\"data row3 col7\" >-31.990051</td>\n",
       "                        <td id=\"T_5024d_row3_col8\" class=\"data row3 col8\" >-999.000000</td>\n",
       "                        <td id=\"T_5024d_row3_col9\" class=\"data row3 col9\" >3.007401</td>\n",
       "                        <td id=\"T_5024d_row3_col10\" class=\"data row3 col10\" >392.465775</td>\n",
       "                        <td id=\"T_5024d_row3_col11\" class=\"data row3 col11\" >-6.673193</td>\n",
       "                        <td id=\"T_5024d_row3_col12\" class=\"data row3 col12\" >-999</td>\n",
       "                        <td id=\"T_5024d_row3_col13\" class=\"data row3 col13\" >-999</td>\n",
       "            </tr>\n",
       "            <tr>\n",
       "                        <th id=\"T_5024d_level0_row4\" class=\"row_heading level0 row4\" >Seiko</th>\n",
       "                        <td id=\"T_5024d_row4_col0\" class=\"data row4 col0\" >1.372111</td>\n",
       "                        <td id=\"T_5024d_row4_col1\" class=\"data row4 col1\" >-16.260540</td>\n",
       "                        <td id=\"T_5024d_row4_col2\" class=\"data row4 col2\" >-13.989780</td>\n",
       "                        <td id=\"T_5024d_row4_col3\" class=\"data row4 col3\" >2.444603</td>\n",
       "                        <td id=\"T_5024d_row4_col4\" class=\"data row4 col4\" >-999.000000</td>\n",
       "                        <td id=\"T_5024d_row4_col5\" class=\"data row4 col5\" >-30.334925</td>\n",
       "                        <td id=\"T_5024d_row4_col6\" class=\"data row4 col6\" >-65.032474</td>\n",
       "                        <td id=\"T_5024d_row4_col7\" class=\"data row4 col7\" >-4.446582</td>\n",
       "                        <td id=\"T_5024d_row4_col8\" class=\"data row4 col8\" >-999.000000</td>\n",
       "                        <td id=\"T_5024d_row4_col9\" class=\"data row4 col9\" >-999.000000</td>\n",
       "                        <td id=\"T_5024d_row4_col10\" class=\"data row4 col10\" >-999.000000</td>\n",
       "                        <td id=\"T_5024d_row4_col11\" class=\"data row4 col11\" >-999.000000</td>\n",
       "                        <td id=\"T_5024d_row4_col12\" class=\"data row4 col12\" >999</td>\n",
       "                        <td id=\"T_5024d_row4_col13\" class=\"data row4 col13\" >-999</td>\n",
       "            </tr>\n",
       "            <tr>\n",
       "                        <th id=\"T_5024d_level0_row5\" class=\"row_heading level0 row5\" >TAG Heuer</th>\n",
       "                        <td id=\"T_5024d_row5_col0\" class=\"data row5 col0\" >1.359211</td>\n",
       "                        <td id=\"T_5024d_row5_col1\" class=\"data row5 col1\" >-6.708364</td>\n",
       "                        <td id=\"T_5024d_row5_col2\" class=\"data row5 col2\" >-31.157450</td>\n",
       "                        <td id=\"T_5024d_row5_col3\" class=\"data row5 col3\" >1.562218</td>\n",
       "                        <td id=\"T_5024d_row5_col4\" class=\"data row5 col4\" >-999.000000</td>\n",
       "                        <td id=\"T_5024d_row5_col5\" class=\"data row5 col5\" >-11.513821</td>\n",
       "                        <td id=\"T_5024d_row5_col6\" class=\"data row5 col6\" >-999.000000</td>\n",
       "                        <td id=\"T_5024d_row5_col7\" class=\"data row5 col7\" >1.101679</td>\n",
       "                        <td id=\"T_5024d_row5_col8\" class=\"data row5 col8\" >-1.807102</td>\n",
       "                        <td id=\"T_5024d_row5_col9\" class=\"data row5 col9\" >1.277013</td>\n",
       "                        <td id=\"T_5024d_row5_col10\" class=\"data row5 col10\" >-3.313020</td>\n",
       "                        <td id=\"T_5024d_row5_col11\" class=\"data row5 col11\" >-999.000000</td>\n",
       "                        <td id=\"T_5024d_row5_col12\" class=\"data row5 col12\" >-999</td>\n",
       "                        <td id=\"T_5024d_row5_col13\" class=\"data row5 col13\" >-999</td>\n",
       "            </tr>\n",
       "            <tr>\n",
       "                        <th id=\"T_5024d_level0_row6\" class=\"row_heading level0 row6\" >Longines</th>\n",
       "                        <td id=\"T_5024d_row6_col0\" class=\"data row6 col0\" >1.265969</td>\n",
       "                        <td id=\"T_5024d_row6_col1\" class=\"data row6 col1\" >-1.657053</td>\n",
       "                        <td id=\"T_5024d_row6_col2\" class=\"data row6 col2\" >-3.010633</td>\n",
       "                        <td id=\"T_5024d_row6_col3\" class=\"data row6 col3\" >-3.705433</td>\n",
       "                        <td id=\"T_5024d_row6_col4\" class=\"data row6 col4\" >-999.000000</td>\n",
       "                        <td id=\"T_5024d_row6_col5\" class=\"data row6 col5\" >-1.107321</td>\n",
       "                        <td id=\"T_5024d_row6_col6\" class=\"data row6 col6\" >-999.000000</td>\n",
       "                        <td id=\"T_5024d_row6_col7\" class=\"data row6 col7\" >-24.042227</td>\n",
       "                        <td id=\"T_5024d_row6_col8\" class=\"data row6 col8\" >2.072247</td>\n",
       "                        <td id=\"T_5024d_row6_col9\" class=\"data row6 col9\" >-999.000000</td>\n",
       "                        <td id=\"T_5024d_row6_col10\" class=\"data row6 col10\" >-999.000000</td>\n",
       "                        <td id=\"T_5024d_row6_col11\" class=\"data row6 col11\" >-999.000000</td>\n",
       "                        <td id=\"T_5024d_row6_col12\" class=\"data row6 col12\" >-999</td>\n",
       "                        <td id=\"T_5024d_row6_col13\" class=\"data row6 col13\" >-999</td>\n",
       "            </tr>\n",
       "            <tr>\n",
       "                        <th id=\"T_5024d_level0_row7\" class=\"row_heading level0 row7\" >Hublot</th>\n",
       "                        <td id=\"T_5024d_row7_col0\" class=\"data row7 col0\" >-4.789243</td>\n",
       "                        <td id=\"T_5024d_row7_col1\" class=\"data row7 col1\" >-6.759063</td>\n",
       "                        <td id=\"T_5024d_row7_col2\" class=\"data row7 col2\" >-6.231453</td>\n",
       "                        <td id=\"T_5024d_row7_col3\" class=\"data row7 col3\" >18.228775</td>\n",
       "                        <td id=\"T_5024d_row7_col4\" class=\"data row7 col4\" >-7.245312</td>\n",
       "                        <td id=\"T_5024d_row7_col5\" class=\"data row7 col5\" >6.317452</td>\n",
       "                        <td id=\"T_5024d_row7_col6\" class=\"data row7 col6\" >-20.295349</td>\n",
       "                        <td id=\"T_5024d_row7_col7\" class=\"data row7 col7\" >40.715981</td>\n",
       "                        <td id=\"T_5024d_row7_col8\" class=\"data row7 col8\" >-2.584585</td>\n",
       "                        <td id=\"T_5024d_row7_col9\" class=\"data row7 col9\" >51.494110</td>\n",
       "                        <td id=\"T_5024d_row7_col10\" class=\"data row7 col10\" >-999.000000</td>\n",
       "                        <td id=\"T_5024d_row7_col11\" class=\"data row7 col11\" >-999.000000</td>\n",
       "                        <td id=\"T_5024d_row7_col12\" class=\"data row7 col12\" >-999</td>\n",
       "                        <td id=\"T_5024d_row7_col13\" class=\"data row7 col13\" >-999</td>\n",
       "            </tr>\n",
       "            <tr>\n",
       "                        <th id=\"T_5024d_level0_row8\" class=\"row_heading level0 row8\" >Patek Philippe</th>\n",
       "                        <td id=\"T_5024d_row8_col0\" class=\"data row8 col0\" >-2.699185</td>\n",
       "                        <td id=\"T_5024d_row8_col1\" class=\"data row8 col1\" >-15.022548</td>\n",
       "                        <td id=\"T_5024d_row8_col2\" class=\"data row8 col2\" >3.787311</td>\n",
       "                        <td id=\"T_5024d_row8_col3\" class=\"data row8 col3\" >-999.000000</td>\n",
       "                        <td id=\"T_5024d_row8_col4\" class=\"data row8 col4\" >17.480287</td>\n",
       "                        <td id=\"T_5024d_row8_col5\" class=\"data row8 col5\" >5.237372</td>\n",
       "                        <td id=\"T_5024d_row8_col6\" class=\"data row8 col6\" >10.033780</td>\n",
       "                        <td id=\"T_5024d_row8_col7\" class=\"data row8 col7\" >-999.000000</td>\n",
       "                        <td id=\"T_5024d_row8_col8\" class=\"data row8 col8\" >-999.000000</td>\n",
       "                        <td id=\"T_5024d_row8_col9\" class=\"data row8 col9\" >-999.000000</td>\n",
       "                        <td id=\"T_5024d_row8_col10\" class=\"data row8 col10\" >-999.000000</td>\n",
       "                        <td id=\"T_5024d_row8_col11\" class=\"data row8 col11\" >-999.000000</td>\n",
       "                        <td id=\"T_5024d_row8_col12\" class=\"data row8 col12\" >-999</td>\n",
       "                        <td id=\"T_5024d_row8_col13\" class=\"data row8 col13\" >-999</td>\n",
       "            </tr>\n",
       "            <tr>\n",
       "                        <th id=\"T_5024d_level0_row9\" class=\"row_heading level0 row9\" >Tudor</th>\n",
       "                        <td id=\"T_5024d_row9_col0\" class=\"data row9 col0\" >1.167833</td>\n",
       "                        <td id=\"T_5024d_row9_col1\" class=\"data row9 col1\" >-2.550316</td>\n",
       "                        <td id=\"T_5024d_row9_col2\" class=\"data row9 col2\" >-8.984485</td>\n",
       "                        <td id=\"T_5024d_row9_col3\" class=\"data row9 col3\" >1.785218</td>\n",
       "                        <td id=\"T_5024d_row9_col4\" class=\"data row9 col4\" >-999.000000</td>\n",
       "                        <td id=\"T_5024d_row9_col5\" class=\"data row9 col5\" >-999.000000</td>\n",
       "                        <td id=\"T_5024d_row9_col6\" class=\"data row9 col6\" >-999.000000</td>\n",
       "                        <td id=\"T_5024d_row9_col7\" class=\"data row9 col7\" >2.863240</td>\n",
       "                        <td id=\"T_5024d_row9_col8\" class=\"data row9 col8\" >87.515943</td>\n",
       "                        <td id=\"T_5024d_row9_col9\" class=\"data row9 col9\" >-999.000000</td>\n",
       "                        <td id=\"T_5024d_row9_col10\" class=\"data row9 col10\" >-999.000000</td>\n",
       "                        <td id=\"T_5024d_row9_col11\" class=\"data row9 col11\" >7.827815</td>\n",
       "                        <td id=\"T_5024d_row9_col12\" class=\"data row9 col12\" >-999</td>\n",
       "                        <td id=\"T_5024d_row9_col13\" class=\"data row9 col13\" >-999</td>\n",
       "            </tr>\n",
       "    </tbody></table>"
      ],
      "text/plain": [
       "<pandas.io.formats.style.Styler at 0x25530176be0>"
      ]
     },
     "execution_count": 10,
     "metadata": {},
     "output_type": "execute_result"
    }
   ],
   "source": [
    "get_brand_dist('Case material').style.apply(centered_background_gradient)"
   ]
  },
  {
   "cell_type": "code",
   "execution_count": 11,
   "metadata": {},
   "outputs": [
    {
     "data": {
      "text/html": [
       "<style  type=\"text/css\" >\n",
       "#T_f95bb_row0_col0,#T_f95bb_row2_col2,#T_f95bb_row4_col0,#T_f95bb_row4_col3,#T_f95bb_row5_col1,#T_f95bb_row5_col7,#T_f95bb_row9_col0{\n",
       "            background-color:  #f7fcb4;\n",
       "        }#T_f95bb_row0_col1{\n",
       "            background-color:  #fed27f;\n",
       "        }#T_f95bb_row0_col2{\n",
       "            background-color:  #e2f397;\n",
       "        }#T_f95bb_row0_col3{\n",
       "            background-color:  #fedc88;\n",
       "        }#T_f95bb_row0_col4,#T_f95bb_row0_col7,#T_f95bb_row0_col10,#T_f95bb_row0_col11,#T_f95bb_row1_col6,#T_f95bb_row1_col11,#T_f95bb_row2_col4,#T_f95bb_row2_col6,#T_f95bb_row2_col10,#T_f95bb_row2_col11,#T_f95bb_row2_col12,#T_f95bb_row3_col6,#T_f95bb_row3_col9,#T_f95bb_row3_col11,#T_f95bb_row4_col2,#T_f95bb_row4_col5,#T_f95bb_row4_col6,#T_f95bb_row4_col8,#T_f95bb_row4_col9,#T_f95bb_row4_col10,#T_f95bb_row4_col11,#T_f95bb_row5_col6,#T_f95bb_row5_col8,#T_f95bb_row5_col9,#T_f95bb_row5_col11,#T_f95bb_row5_col12,#T_f95bb_row6_col6,#T_f95bb_row6_col9,#T_f95bb_row6_col11,#T_f95bb_row6_col12,#T_f95bb_row7_col0,#T_f95bb_row7_col2,#T_f95bb_row7_col5,#T_f95bb_row7_col6,#T_f95bb_row7_col9,#T_f95bb_row7_col11,#T_f95bb_row7_col12,#T_f95bb_row8_col4,#T_f95bb_row8_col10,#T_f95bb_row8_col11,#T_f95bb_row8_col12,#T_f95bb_row9_col5,#T_f95bb_row9_col6,#T_f95bb_row9_col8,#T_f95bb_row9_col9,#T_f95bb_row9_col10,#T_f95bb_row9_col11,#T_f95bb_row9_col12{\n",
       "            background-color:  #a50026;\n",
       "        }#T_f95bb_row0_col5,#T_f95bb_row0_col9{\n",
       "            background-color:  #e6f59d;\n",
       "        }#T_f95bb_row0_col6,#T_f95bb_row7_col10{\n",
       "            background-color:  #006837;\n",
       "        }#T_f95bb_row0_col8,#T_f95bb_row1_col1,#T_f95bb_row1_col4,#T_f95bb_row1_col7,#T_f95bb_row5_col3,#T_f95bb_row7_col1,#T_f95bb_row8_col3,#T_f95bb_row8_col5{\n",
       "            background-color:  #f5fbb2;\n",
       "        }#T_f95bb_row0_col12,#T_f95bb_row6_col3{\n",
       "            background-color:  #fff5ae;\n",
       "        }#T_f95bb_row1_col0,#T_f95bb_row2_col8,#T_f95bb_row5_col0,#T_f95bb_row5_col4,#T_f95bb_row6_col8,#T_f95bb_row9_col1{\n",
       "            background-color:  #f8fcb6;\n",
       "        }#T_f95bb_row1_col2,#T_f95bb_row1_col5,#T_f95bb_row6_col7{\n",
       "            background-color:  #feeda1;\n",
       "        }#T_f95bb_row1_col3,#T_f95bb_row3_col0,#T_f95bb_row6_col2,#T_f95bb_row6_col10{\n",
       "            background-color:  #fff8b4;\n",
       "        }#T_f95bb_row1_col8,#T_f95bb_row9_col2{\n",
       "            background-color:  #fff2aa;\n",
       "        }#T_f95bb_row1_col9,#T_f95bb_row3_col8,#T_f95bb_row9_col3{\n",
       "            background-color:  #fff0a6;\n",
       "        }#T_f95bb_row1_col10,#T_f95bb_row3_col2{\n",
       "            background-color:  #fee797;\n",
       "        }#T_f95bb_row1_col12,#T_f95bb_row2_col1{\n",
       "            background-color:  #f1f9ac;\n",
       "        }#T_f95bb_row2_col0,#T_f95bb_row3_col10{\n",
       "            background-color:  #fff6b0;\n",
       "        }#T_f95bb_row2_col3{\n",
       "            background-color:  #fff3ac;\n",
       "        }#T_f95bb_row2_col5,#T_f95bb_row2_col9,#T_f95bb_row3_col4,#T_f95bb_row6_col1,#T_f95bb_row8_col9{\n",
       "            background-color:  #f2faae;\n",
       "        }#T_f95bb_row2_col7{\n",
       "            background-color:  #feea9b;\n",
       "        }#T_f95bb_row3_col1{\n",
       "            background-color:  #f4fab0;\n",
       "        }#T_f95bb_row3_col3{\n",
       "            background-color:  #ebf7a3;\n",
       "        }#T_f95bb_row3_col5{\n",
       "            background-color:  #fca85e;\n",
       "        }#T_f95bb_row3_col7,#T_f95bb_row3_col12,#T_f95bb_row7_col4{\n",
       "            background-color:  #eff8aa;\n",
       "        }#T_f95bb_row4_col1,#T_f95bb_row6_col0,#T_f95bb_row8_col6{\n",
       "            background-color:  #fffab6;\n",
       "        }#T_f95bb_row4_col4{\n",
       "            background-color:  #cdea83;\n",
       "        }#T_f95bb_row4_col7,#T_f95bb_row4_col12{\n",
       "            background-color:  #d9ef8b;\n",
       "        }#T_f95bb_row5_col2{\n",
       "            background-color:  #fed683;\n",
       "        }#T_f95bb_row5_col5{\n",
       "            background-color:  #fca55d;\n",
       "        }#T_f95bb_row5_col10{\n",
       "            background-color:  #ddf191;\n",
       "        }#T_f95bb_row6_col4{\n",
       "            background-color:  #fee28f;\n",
       "        }#T_f95bb_row6_col5{\n",
       "            background-color:  #fee08b;\n",
       "        }#T_f95bb_row7_col3{\n",
       "            background-color:  #addc6f;\n",
       "        }#T_f95bb_row7_col7,#T_f95bb_row8_col8{\n",
       "            background-color:  #e8f59f;\n",
       "        }#T_f95bb_row7_col8{\n",
       "            background-color:  #ecf7a6;\n",
       "        }#T_f95bb_row8_col0{\n",
       "            background-color:  #feefa3;\n",
       "        }#T_f95bb_row8_col1,#T_f95bb_row9_col7{\n",
       "            background-color:  #e9f6a1;\n",
       "        }#T_f95bb_row8_col2{\n",
       "            background-color:  #fdb567;\n",
       "        }#T_f95bb_row8_col7{\n",
       "            background-color:  #fee491;\n",
       "        }#T_f95bb_row9_col4{\n",
       "            background-color:  #dcf08f;\n",
       "        }</style><table id=\"T_f95bb_\" ><thead>    <tr>        <th class=\"blank level0\" ></th>        <th class=\"col_heading level0 col0\" >Steel</th>        <th class=\"col_heading level0 col1\" >Leather</th>        <th class=\"col_heading level0 col2\" >Gold/Steel</th>        <th class=\"col_heading level0 col3\" >Rubber</th>        <th class=\"col_heading level0 col4\" >Titanium</th>        <th class=\"col_heading level0 col5\" >Yellow gold</th>        <th class=\"col_heading level0 col6\" >Platinum</th>        <th class=\"col_heading level0 col7\" >Textile</th>        <th class=\"col_heading level0 col8\" >Rose gold</th>        <th class=\"col_heading level0 col9\" >White gold</th>        <th class=\"col_heading level0 col10\" >Ceramic</th>        <th class=\"col_heading level0 col11\" >Aluminium</th>        <th class=\"col_heading level0 col12\" >Silver</th>    </tr></thead><tbody>\n",
       "                <tr>\n",
       "                        <th id=\"T_f95bb_level0_row0\" class=\"row_heading level0 row0\" >Rolex</th>\n",
       "                        <td id=\"T_f95bb_row0_col0\" class=\"data row0 col0\" >1.315856</td>\n",
       "                        <td id=\"T_f95bb_row0_col1\" class=\"data row0 col1\" >-7.520352</td>\n",
       "                        <td id=\"T_f95bb_row0_col2\" class=\"data row0 col2\" >4.640224</td>\n",
       "                        <td id=\"T_f95bb_row0_col3\" class=\"data row0 col3\" >-6.424810</td>\n",
       "                        <td id=\"T_f95bb_row0_col4\" class=\"data row0 col4\" >-999.000000</td>\n",
       "                        <td id=\"T_f95bb_row0_col5\" class=\"data row0 col5\" >3.874265</td>\n",
       "                        <td id=\"T_f95bb_row0_col6\" class=\"data row0 col6\" >36.329195</td>\n",
       "                        <td id=\"T_f95bb_row0_col7\" class=\"data row0 col7\" >-98.240546</td>\n",
       "                        <td id=\"T_f95bb_row0_col8\" class=\"data row0 col8\" >1.628248</td>\n",
       "                        <td id=\"T_f95bb_row0_col9\" class=\"data row0 col9\" >3.885162</td>\n",
       "                        <td id=\"T_f95bb_row0_col10\" class=\"data row0 col10\" >-999.000000</td>\n",
       "                        <td id=\"T_f95bb_row0_col11\" class=\"data row0 col11\" >-999</td>\n",
       "                        <td id=\"T_f95bb_row0_col12\" class=\"data row0 col12\" >-1.903887</td>\n",
       "            </tr>\n",
       "            <tr>\n",
       "                        <th id=\"T_f95bb_level0_row1\" class=\"row_heading level0 row1\" >Omega</th>\n",
       "                        <td id=\"T_f95bb_row1_col0\" class=\"data row1 col0\" >1.143319</td>\n",
       "                        <td id=\"T_f95bb_row1_col1\" class=\"data row1 col1\" >1.481145</td>\n",
       "                        <td id=\"T_f95bb_row1_col2\" class=\"data row1 col2\" >-3.487622</td>\n",
       "                        <td id=\"T_f95bb_row1_col3\" class=\"data row1 col3\" >-1.369212</td>\n",
       "                        <td id=\"T_f95bb_row1_col4\" class=\"data row1 col4\" >1.489328</td>\n",
       "                        <td id=\"T_f95bb_row1_col5\" class=\"data row1 col5\" >-3.493221</td>\n",
       "                        <td id=\"T_f95bb_row1_col6\" class=\"data row1 col6\" >-999.000000</td>\n",
       "                        <td id=\"T_f95bb_row1_col7\" class=\"data row1 col7\" >1.497216</td>\n",
       "                        <td id=\"T_f95bb_row1_col8\" class=\"data row1 col8\" >-2.490347</td>\n",
       "                        <td id=\"T_f95bb_row1_col9\" class=\"data row1 col9\" >-2.979416</td>\n",
       "                        <td id=\"T_f95bb_row1_col10\" class=\"data row1 col10\" >-4.481435</td>\n",
       "                        <td id=\"T_f95bb_row1_col11\" class=\"data row1 col11\" >-999</td>\n",
       "                        <td id=\"T_f95bb_row1_col12\" class=\"data row1 col12\" >2.320685</td>\n",
       "            </tr>\n",
       "            <tr>\n",
       "                        <th id=\"T_f95bb_level0_row2\" class=\"row_heading level0 row2\" >Cartier</th>\n",
       "                        <td id=\"T_f95bb_row2_col0\" class=\"data row2 col0\" >-1.698465</td>\n",
       "                        <td id=\"T_f95bb_row2_col1\" class=\"data row2 col1\" >2.296879</td>\n",
       "                        <td id=\"T_f95bb_row2_col2\" class=\"data row2 col2\" >1.332653</td>\n",
       "                        <td id=\"T_f95bb_row2_col3\" class=\"data row2 col3\" >-2.183208</td>\n",
       "                        <td id=\"T_f95bb_row2_col4\" class=\"data row2 col4\" >-999.000000</td>\n",
       "                        <td id=\"T_f95bb_row2_col5\" class=\"data row2 col5\" >1.924279</td>\n",
       "                        <td id=\"T_f95bb_row2_col6\" class=\"data row2 col6\" >-999.000000</td>\n",
       "                        <td id=\"T_f95bb_row2_col7\" class=\"data row2 col7\" >-4.105666</td>\n",
       "                        <td id=\"T_f95bb_row2_col8\" class=\"data row2 col8\" >1.025118</td>\n",
       "                        <td id=\"T_f95bb_row2_col9\" class=\"data row2 col9\" >1.903790</td>\n",
       "                        <td id=\"T_f95bb_row2_col10\" class=\"data row2 col10\" >-999.000000</td>\n",
       "                        <td id=\"T_f95bb_row2_col11\" class=\"data row2 col11\" >-999</td>\n",
       "                        <td id=\"T_f95bb_row2_col12\" class=\"data row2 col12\" >-999.000000</td>\n",
       "            </tr>\n",
       "            <tr>\n",
       "                        <th id=\"T_f95bb_level0_row3\" class=\"row_heading level0 row3\" >Breitling</th>\n",
       "                        <td id=\"T_f95bb_row3_col0\" class=\"data row3 col0\" >-1.311968</td>\n",
       "                        <td id=\"T_f95bb_row3_col1\" class=\"data row3 col1\" >1.720905</td>\n",
       "                        <td id=\"T_f95bb_row3_col2\" class=\"data row3 col2\" >-4.456889</td>\n",
       "                        <td id=\"T_f95bb_row3_col3\" class=\"data row3 col3\" >3.143727</td>\n",
       "                        <td id=\"T_f95bb_row3_col4\" class=\"data row3 col4\" >2.076538</td>\n",
       "                        <td id=\"T_f95bb_row3_col5\" class=\"data row3 col5\" >-12.471697</td>\n",
       "                        <td id=\"T_f95bb_row3_col6\" class=\"data row3 col6\" >-999.000000</td>\n",
       "                        <td id=\"T_f95bb_row3_col7\" class=\"data row3 col7\" >2.386470</td>\n",
       "                        <td id=\"T_f95bb_row3_col8\" class=\"data row3 col8\" >-3.013256</td>\n",
       "                        <td id=\"T_f95bb_row3_col9\" class=\"data row3 col9\" >-999.000000</td>\n",
       "                        <td id=\"T_f95bb_row3_col10\" class=\"data row3 col10\" >-1.788691</td>\n",
       "                        <td id=\"T_f95bb_row3_col11\" class=\"data row3 col11\" >-999</td>\n",
       "                        <td id=\"T_f95bb_row3_col12\" class=\"data row3 col12\" >2.422628</td>\n",
       "            </tr>\n",
       "            <tr>\n",
       "                        <th id=\"T_f95bb_level0_row4\" class=\"row_heading level0 row4\" >Seiko</th>\n",
       "                        <td id=\"T_f95bb_row4_col0\" class=\"data row4 col0\" >1.172581</td>\n",
       "                        <td id=\"T_f95bb_row4_col1\" class=\"data row4 col1\" >-1.061145</td>\n",
       "                        <td id=\"T_f95bb_row4_col2\" class=\"data row4 col2\" >-37.850844</td>\n",
       "                        <td id=\"T_f95bb_row4_col3\" class=\"data row4 col3\" >1.187732</td>\n",
       "                        <td id=\"T_f95bb_row4_col4\" class=\"data row4 col4\" >7.440884</td>\n",
       "                        <td id=\"T_f95bb_row4_col5\" class=\"data row4 col5\" >-999.000000</td>\n",
       "                        <td id=\"T_f95bb_row4_col6\" class=\"data row4 col6\" >-999.000000</td>\n",
       "                        <td id=\"T_f95bb_row4_col7\" class=\"data row4 col7\" >6.015712</td>\n",
       "                        <td id=\"T_f95bb_row4_col8\" class=\"data row4 col8\" >-999.000000</td>\n",
       "                        <td id=\"T_f95bb_row4_col9\" class=\"data row4 col9\" >-999.000000</td>\n",
       "                        <td id=\"T_f95bb_row4_col10\" class=\"data row4 col10\" >-999.000000</td>\n",
       "                        <td id=\"T_f95bb_row4_col11\" class=\"data row4 col11\" >-999</td>\n",
       "                        <td id=\"T_f95bb_row4_col12\" class=\"data row4 col12\" >5.898592</td>\n",
       "            </tr>\n",
       "            <tr>\n",
       "                        <th id=\"T_f95bb_level0_row5\" class=\"row_heading level0 row5\" >TAG Heuer</th>\n",
       "                        <td id=\"T_f95bb_row5_col0\" class=\"data row5 col0\" >1.155957</td>\n",
       "                        <td id=\"T_f95bb_row5_col1\" class=\"data row5 col1\" >1.286706</td>\n",
       "                        <td id=\"T_f95bb_row5_col2\" class=\"data row5 col2\" >-7.157415</td>\n",
       "                        <td id=\"T_f95bb_row5_col3\" class=\"data row5 col3\" >1.442171</td>\n",
       "                        <td id=\"T_f95bb_row5_col4\" class=\"data row5 col4\" >1.020784</td>\n",
       "                        <td id=\"T_f95bb_row5_col5\" class=\"data row5 col5\" >-12.750108</td>\n",
       "                        <td id=\"T_f95bb_row5_col6\" class=\"data row5 col6\" >-999.000000</td>\n",
       "                        <td id=\"T_f95bb_row5_col7\" class=\"data row5 col7\" >1.185798</td>\n",
       "                        <td id=\"T_f95bb_row5_col8\" class=\"data row5 col8\" >-999.000000</td>\n",
       "                        <td id=\"T_f95bb_row5_col9\" class=\"data row5 col9\" >-999.000000</td>\n",
       "                        <td id=\"T_f95bb_row5_col10\" class=\"data row5 col10\" >5.263784</td>\n",
       "                        <td id=\"T_f95bb_row5_col11\" class=\"data row5 col11\" >-999</td>\n",
       "                        <td id=\"T_f95bb_row5_col12\" class=\"data row5 col12\" >-999.000000</td>\n",
       "            </tr>\n",
       "            <tr>\n",
       "                        <th id=\"T_f95bb_level0_row6\" class=\"row_heading level0 row6\" >Longines</th>\n",
       "                        <td id=\"T_f95bb_row6_col0\" class=\"data row6 col0\" >-1.066157</td>\n",
       "                        <td id=\"T_f95bb_row6_col1\" class=\"data row6 col1\" >1.993425</td>\n",
       "                        <td id=\"T_f95bb_row6_col2\" class=\"data row6 col2\" >-1.325010</td>\n",
       "                        <td id=\"T_f95bb_row6_col3\" class=\"data row6 col3\" >-1.968369</td>\n",
       "                        <td id=\"T_f95bb_row6_col4\" class=\"data row6 col4\" >-5.601236</td>\n",
       "                        <td id=\"T_f95bb_row6_col5\" class=\"data row6 col5\" >-5.945927</td>\n",
       "                        <td id=\"T_f95bb_row6_col6\" class=\"data row6 col6\" >-999.000000</td>\n",
       "                        <td id=\"T_f95bb_row6_col7\" class=\"data row6 col7\" >-3.309038</td>\n",
       "                        <td id=\"T_f95bb_row6_col8\" class=\"data row6 col8\" >1.094772</td>\n",
       "                        <td id=\"T_f95bb_row6_col9\" class=\"data row6 col9\" >-999.000000</td>\n",
       "                        <td id=\"T_f95bb_row6_col10\" class=\"data row6 col10\" >-1.344297</td>\n",
       "                        <td id=\"T_f95bb_row6_col11\" class=\"data row6 col11\" >-999</td>\n",
       "                        <td id=\"T_f95bb_row6_col12\" class=\"data row6 col12\" >-999.000000</td>\n",
       "            </tr>\n",
       "            <tr>\n",
       "                        <th id=\"T_f95bb_level0_row7\" class=\"row_heading level0 row7\" >Hublot</th>\n",
       "                        <td id=\"T_f95bb_row7_col0\" class=\"data row7 col0\" >-98.238445</td>\n",
       "                        <td id=\"T_f95bb_row7_col1\" class=\"data row7 col1\" >1.602713</td>\n",
       "                        <td id=\"T_f95bb_row7_col2\" class=\"data row7 col2\" >-47.341690</td>\n",
       "                        <td id=\"T_f95bb_row7_col3\" class=\"data row7 col3\" >11.023347</td>\n",
       "                        <td id=\"T_f95bb_row7_col4\" class=\"data row7 col4\" >2.375987</td>\n",
       "                        <td id=\"T_f95bb_row7_col5\" class=\"data row7 col5\" >-999.000000</td>\n",
       "                        <td id=\"T_f95bb_row7_col6\" class=\"data row7 col6\" >-999.000000</td>\n",
       "                        <td id=\"T_f95bb_row7_col7\" class=\"data row7 col7\" >3.550663</td>\n",
       "                        <td id=\"T_f95bb_row7_col8\" class=\"data row7 col8\" >2.898426</td>\n",
       "                        <td id=\"T_f95bb_row7_col9\" class=\"data row7 col9\" >-999.000000</td>\n",
       "                        <td id=\"T_f95bb_row7_col10\" class=\"data row7 col10\" >43.476387</td>\n",
       "                        <td id=\"T_f95bb_row7_col11\" class=\"data row7 col11\" >-999</td>\n",
       "                        <td id=\"T_f95bb_row7_col12\" class=\"data row7 col12\" >-999.000000</td>\n",
       "            </tr>\n",
       "            <tr>\n",
       "                        <th id=\"T_f95bb_level0_row8\" class=\"row_heading level0 row8\" >Patek Philippe</th>\n",
       "                        <td id=\"T_f95bb_row8_col0\" class=\"data row8 col0\" >-3.257621</td>\n",
       "                        <td id=\"T_f95bb_row8_col1\" class=\"data row8 col1\" >3.448844</td>\n",
       "                        <td id=\"T_f95bb_row8_col2\" class=\"data row8 col2\" >-11.203238</td>\n",
       "                        <td id=\"T_f95bb_row8_col3\" class=\"data row8 col3\" >1.566756</td>\n",
       "                        <td id=\"T_f95bb_row8_col4\" class=\"data row8 col4\" >-999.000000</td>\n",
       "                        <td id=\"T_f95bb_row8_col5\" class=\"data row8 col5\" >1.619009</td>\n",
       "                        <td id=\"T_f95bb_row8_col6\" class=\"data row8 col6\" >-1.112616</td>\n",
       "                        <td id=\"T_f95bb_row8_col7\" class=\"data row8 col7\" >-5.187739</td>\n",
       "                        <td id=\"T_f95bb_row8_col8\" class=\"data row8 col8\" >3.552332</td>\n",
       "                        <td id=\"T_f95bb_row8_col9\" class=\"data row8 col9\" >1.955778</td>\n",
       "                        <td id=\"T_f95bb_row8_col10\" class=\"data row8 col10\" >-999.000000</td>\n",
       "                        <td id=\"T_f95bb_row8_col11\" class=\"data row8 col11\" >-999</td>\n",
       "                        <td id=\"T_f95bb_row8_col12\" class=\"data row8 col12\" >-999.000000</td>\n",
       "            </tr>\n",
       "            <tr>\n",
       "                        <th id=\"T_f95bb_level0_row9\" class=\"row_heading level0 row9\" >Tudor</th>\n",
       "                        <td id=\"T_f95bb_row9_col0\" class=\"data row9 col0\" >1.205073</td>\n",
       "                        <td id=\"T_f95bb_row9_col1\" class=\"data row9 col1\" >1.090495</td>\n",
       "                        <td id=\"T_f95bb_row9_col2\" class=\"data row9 col2\" >-2.538025</td>\n",
       "                        <td id=\"T_f95bb_row9_col3\" class=\"data row9 col3\" >-2.869028</td>\n",
       "                        <td id=\"T_f95bb_row9_col4\" class=\"data row9 col4\" >5.483252</td>\n",
       "                        <td id=\"T_f95bb_row9_col5\" class=\"data row9 col5\" >-999.000000</td>\n",
       "                        <td id=\"T_f95bb_row9_col6\" class=\"data row9 col6\" >-999.000000</td>\n",
       "                        <td id=\"T_f95bb_row9_col7\" class=\"data row9 col7\" >3.413291</td>\n",
       "                        <td id=\"T_f95bb_row9_col8\" class=\"data row9 col8\" >-999.000000</td>\n",
       "                        <td id=\"T_f95bb_row9_col9\" class=\"data row9 col9\" >-999.000000</td>\n",
       "                        <td id=\"T_f95bb_row9_col10\" class=\"data row9 col10\" >-999.000000</td>\n",
       "                        <td id=\"T_f95bb_row9_col11\" class=\"data row9 col11\" >-999</td>\n",
       "                        <td id=\"T_f95bb_row9_col12\" class=\"data row9 col12\" >-999.000000</td>\n",
       "            </tr>\n",
       "    </tbody></table>"
      ],
      "text/plain": [
       "<pandas.io.formats.style.Styler at 0x25530184730>"
      ]
     },
     "execution_count": 11,
     "metadata": {},
     "output_type": "execute_result"
    }
   ],
   "source": [
    "get_brand_dist('Bracelet material').style.apply(centered_background_gradient)"
   ]
  },
  {
   "cell_type": "markdown",
   "metadata": {},
   "source": [
    "## 1.4 Functions"
   ]
  },
  {
   "cell_type": "code",
   "execution_count": 12,
   "metadata": {},
   "outputs": [
    {
     "data": {
      "text/html": [
       "<style  type=\"text/css\" >\n",
       "#T_cd4c3_row0_col0,#T_cd4c3_row6_col0,#T_cd4c3_row8_col0{\n",
       "            background-color:  #fffab6;\n",
       "        }#T_cd4c3_row0_col1,#T_cd4c3_row6_col1{\n",
       "            background-color:  #f2faae;\n",
       "        }#T_cd4c3_row1_col0,#T_cd4c3_row2_col0,#T_cd4c3_row3_col0,#T_cd4c3_row4_col0,#T_cd4c3_row5_col0,#T_cd4c3_row7_col0,#T_cd4c3_row9_col0{\n",
       "            background-color:  #f8fcb6;\n",
       "        }#T_cd4c3_row1_col1{\n",
       "            background-color:  #fede89;\n",
       "        }#T_cd4c3_row2_col1{\n",
       "            background-color:  #cc2627;\n",
       "        }#T_cd4c3_row3_col1{\n",
       "            background-color:  #fff5ae;\n",
       "        }#T_cd4c3_row4_col1{\n",
       "            background-color:  #fff1a8;\n",
       "        }#T_cd4c3_row5_col1,#T_cd4c3_row9_col1{\n",
       "            background-color:  #a50026;\n",
       "        }#T_cd4c3_row7_col1{\n",
       "            background-color:  #fee695;\n",
       "        }#T_cd4c3_row8_col1{\n",
       "            background-color:  #d9ef8b;\n",
       "        }</style><table id=\"T_cd4c3_\" ><thead>    <tr>        <th class=\"blank level0\" ></th>        <th class=\"col_heading level0 col0\" >0</th>        <th class=\"col_heading level0 col1\" >1</th>    </tr></thead><tbody>\n",
       "                <tr>\n",
       "                        <th id=\"T_cd4c3_level0_row0\" class=\"row_heading level0 row0\" >Rolex</th>\n",
       "                        <td id=\"T_cd4c3_row0_col0\" class=\"data row0 col0\" >-1.008350</td>\n",
       "                        <td id=\"T_cd4c3_row0_col1\" class=\"data row0 col1\" >2.074904</td>\n",
       "            </tr>\n",
       "            <tr>\n",
       "                        <th id=\"T_cd4c3_level0_row1\" class=\"row_heading level0 row1\" >Omega</th>\n",
       "                        <td id=\"T_cd4c3_row1_col0\" class=\"data row1 col0\" >1.010889</td>\n",
       "                        <td id=\"T_cd4c3_row1_col1\" class=\"data row1 col1\" >-6.300822</td>\n",
       "            </tr>\n",
       "            <tr>\n",
       "                        <th id=\"T_cd4c3_level0_row2\" class=\"row_heading level0 row2\" >Cartier</th>\n",
       "                        <td id=\"T_cd4c3_row2_col0\" class=\"data row2 col0\" >1.011667</td>\n",
       "                        <td id=\"T_cd4c3_row2_col1\" class=\"data row2 col1\" >-25.287902</td>\n",
       "            </tr>\n",
       "            <tr>\n",
       "                        <th id=\"T_cd4c3_level0_row3\" class=\"row_heading level0 row3\" >Breitling</th>\n",
       "                        <td id=\"T_cd4c3_row3_col0\" class=\"data row3 col0\" >1.005986</td>\n",
       "                        <td id=\"T_cd4c3_row3_col1\" class=\"data row3 col1\" >-2.045112</td>\n",
       "            </tr>\n",
       "            <tr>\n",
       "                        <th id=\"T_cd4c3_level0_row4\" class=\"row_heading level0 row4\" >Seiko</th>\n",
       "                        <td id=\"T_cd4c3_row4_col0\" class=\"data row4 col0\" >1.007589</td>\n",
       "                        <td id=\"T_cd4c3_row4_col1\" class=\"data row4 col1\" >-2.797278</td>\n",
       "            </tr>\n",
       "            <tr>\n",
       "                        <th id=\"T_cd4c3_level0_row5\" class=\"row_heading level0 row5\" >TAG Heuer</th>\n",
       "                        <td id=\"T_cd4c3_row5_col0\" class=\"data row5 col0\" >1.012014</td>\n",
       "                        <td id=\"T_cd4c3_row5_col1\" class=\"data row5 col1\" >-999.000000</td>\n",
       "            </tr>\n",
       "            <tr>\n",
       "                        <th id=\"T_cd4c3_level0_row6\" class=\"row_heading level0 row6\" >Longines</th>\n",
       "                        <td id=\"T_cd4c3_row6_col0\" class=\"data row6 col0\" >-1.011875</td>\n",
       "                        <td id=\"T_cd4c3_row6_col1\" class=\"data row6 col1\" >2.092630</td>\n",
       "            </tr>\n",
       "            <tr>\n",
       "                        <th id=\"T_cd4c3_level0_row7\" class=\"row_heading level0 row7\" >Hublot</th>\n",
       "                        <td id=\"T_cd4c3_row7_col0\" class=\"data row7 col0\" >1.009230</td>\n",
       "                        <td id=\"T_cd4c3_row7_col1\" class=\"data row7 col1\" >-4.731344</td>\n",
       "            </tr>\n",
       "            <tr>\n",
       "                        <th id=\"T_cd4c3_level0_row8\" class=\"row_heading level0 row8\" >Patek Philippe</th>\n",
       "                        <td id=\"T_cd4c3_row8_col0\" class=\"data row8 col0\" >-1.050010</td>\n",
       "                        <td id=\"T_cd4c3_row8_col1\" class=\"data row8 col1\" >6.033740</td>\n",
       "            </tr>\n",
       "            <tr>\n",
       "                        <th id=\"T_cd4c3_level0_row9\" class=\"row_heading level0 row9\" >Tudor</th>\n",
       "                        <td id=\"T_cd4c3_row9_col0\" class=\"data row9 col0\" >1.011773</td>\n",
       "                        <td id=\"T_cd4c3_row9_col1\" class=\"data row9 col1\" >-999.000000</td>\n",
       "            </tr>\n",
       "    </tbody></table>"
      ],
      "text/plain": [
       "<pandas.io.formats.style.Styler at 0x2553017d970>"
      ]
     },
     "execution_count": 12,
     "metadata": {},
     "output_type": "execute_result"
    }
   ],
   "source": [
    "get_brand_dist('Perpetual calendar').style.apply(centered_background_gradient)"
   ]
  },
  {
   "cell_type": "code",
   "execution_count": 13,
   "metadata": {},
   "outputs": [
    {
     "data": {
      "text/html": [
       "<style  type=\"text/css\" >\n",
       "#T_ac92e_row0_col0,#T_ac92e_row1_col0,#T_ac92e_row2_col0,#T_ac92e_row3_col0,#T_ac92e_row4_col0,#T_ac92e_row6_col0{\n",
       "            background-color:  #f8fcb6;\n",
       "        }#T_ac92e_row0_col1,#T_ac92e_row1_col1,#T_ac92e_row2_col1,#T_ac92e_row3_col1,#T_ac92e_row4_col1,#T_ac92e_row6_col1{\n",
       "            background-color:  #a50026;\n",
       "        }#T_ac92e_row5_col0,#T_ac92e_row7_col0,#T_ac92e_row8_col0,#T_ac92e_row9_col0{\n",
       "            background-color:  #fffab6;\n",
       "        }#T_ac92e_row5_col1{\n",
       "            background-color:  #097940;\n",
       "        }#T_ac92e_row7_col1{\n",
       "            background-color:  #bfe47a;\n",
       "        }#T_ac92e_row8_col1,#T_ac92e_row9_col1{\n",
       "            background-color:  #f7fcb4;\n",
       "        }</style><table id=\"T_ac92e_\" ><thead>    <tr>        <th class=\"blank level0\" ></th>        <th class=\"col_heading level0 col0\" >0</th>        <th class=\"col_heading level0 col1\" >1</th>    </tr></thead><tbody>\n",
       "                <tr>\n",
       "                        <th id=\"T_ac92e_level0_row0\" class=\"row_heading level0 row0\" >Rolex</th>\n",
       "                        <td id=\"T_ac92e_row0_col0\" class=\"data row0 col0\" >1.002340</td>\n",
       "                        <td id=\"T_ac92e_row0_col1\" class=\"data row0 col1\" >-999.000000</td>\n",
       "            </tr>\n",
       "            <tr>\n",
       "                        <th id=\"T_ac92e_level0_row1\" class=\"row_heading level0 row1\" >Omega</th>\n",
       "                        <td id=\"T_ac92e_row1_col0\" class=\"data row1 col0\" >1.001556</td>\n",
       "                        <td id=\"T_ac92e_row1_col1\" class=\"data row1 col1\" >-999.000000</td>\n",
       "            </tr>\n",
       "            <tr>\n",
       "                        <th id=\"T_ac92e_level0_row2\" class=\"row_heading level0 row2\" >Cartier</th>\n",
       "                        <td id=\"T_ac92e_row2_col0\" class=\"data row2 col0\" >1.001427</td>\n",
       "                        <td id=\"T_ac92e_row2_col1\" class=\"data row2 col1\" >-999.000000</td>\n",
       "            </tr>\n",
       "            <tr>\n",
       "                        <th id=\"T_ac92e_level0_row3\" class=\"row_heading level0 row3\" >Breitling</th>\n",
       "                        <td id=\"T_ac92e_row3_col0\" class=\"data row3 col0\" >1.001418</td>\n",
       "                        <td id=\"T_ac92e_row3_col1\" class=\"data row3 col1\" >-999.000000</td>\n",
       "            </tr>\n",
       "            <tr>\n",
       "                        <th id=\"T_ac92e_level0_row4\" class=\"row_heading level0 row4\" >Seiko</th>\n",
       "                        <td id=\"T_ac92e_row4_col0\" class=\"data row4 col0\" >1.001417</td>\n",
       "                        <td id=\"T_ac92e_row4_col1\" class=\"data row4 col1\" >-999.000000</td>\n",
       "            </tr>\n",
       "            <tr>\n",
       "                        <th id=\"T_ac92e_level0_row5\" class=\"row_heading level0 row5\" >TAG Heuer</th>\n",
       "                        <td id=\"T_ac92e_row5_col0\" class=\"data row5 col0\" >-1.014258</td>\n",
       "                        <td id=\"T_ac92e_row5_col1\" class=\"data row5 col1\" >27.668610</td>\n",
       "            </tr>\n",
       "            <tr>\n",
       "                        <th id=\"T_ac92e_level0_row6\" class=\"row_heading level0 row6\" >Longines</th>\n",
       "                        <td id=\"T_ac92e_row6_col0\" class=\"data row6 col0\" >1.001396</td>\n",
       "                        <td id=\"T_ac92e_row6_col1\" class=\"data row6 col1\" >-999.000000</td>\n",
       "            </tr>\n",
       "            <tr>\n",
       "                        <th id=\"T_ac92e_level0_row7\" class=\"row_heading level0 row7\" >Hublot</th>\n",
       "                        <td id=\"T_ac92e_row7_col0\" class=\"data row7 col0\" >-1.008036</td>\n",
       "                        <td id=\"T_ac92e_row7_col1\" class=\"data row7 col1\" >8.952281</td>\n",
       "            </tr>\n",
       "            <tr>\n",
       "                        <th id=\"T_ac92e_level0_row8\" class=\"row_heading level0 row8\" >Patek Philippe</th>\n",
       "                        <td id=\"T_ac92e_row8_col0\" class=\"data row8 col0\" >-1.000405</td>\n",
       "                        <td id=\"T_ac92e_row8_col1\" class=\"data row8 col1\" >1.308754</td>\n",
       "            </tr>\n",
       "            <tr>\n",
       "                        <th id=\"T_ac92e_level0_row9\" class=\"row_heading level0 row9\" >Tudor</th>\n",
       "                        <td id=\"T_ac92e_row9_col0\" class=\"data row9 col0\" >-1.000450</td>\n",
       "                        <td id=\"T_ac92e_row9_col1\" class=\"data row9 col1\" >1.343446</td>\n",
       "            </tr>\n",
       "    </tbody></table>"
      ],
      "text/plain": [
       "<pandas.io.formats.style.Styler at 0x255344841c0>"
      ]
     },
     "execution_count": 13,
     "metadata": {},
     "output_type": "execute_result"
    }
   ],
   "source": [
    "get_brand_dist('Tourbillon').style.apply(centered_background_gradient)"
   ]
  },
  {
   "cell_type": "markdown",
   "metadata": {},
   "source": [
    "# 2. Feature Engineering"
   ]
  },
  {
   "cell_type": "code",
   "execution_count": 14,
   "metadata": {},
   "outputs": [],
   "source": [
    "df = df[df[\"Year of production\"] > 1900]\n",
    "df['Decade'] = 0\n",
    "for i in range(190, 220):\n",
    "    start = i * 10\n",
    "    end = start + 10\n",
    "    df.loc[(df['Year of production'] >= start) & (df['Year of production'] < end), 'Decade'] = '{}s'.format(start)"
   ]
  },
  {
   "cell_type": "code",
   "execution_count": 15,
   "metadata": {},
   "outputs": [],
   "source": [
    "df = df.loc[df['Case diameter'] > 14]\n",
    "df['Diameter_group'] = 0\n",
    "for i in range(0, 24):\n",
    "    start = 14 + i*2\n",
    "    end = start + 1\n",
    "    df.loc[(df['Case diameter'] >= start) & (df['Case diameter'] <= end), 'Diameter_group'] = '{}-{}'.format(start, end)"
   ]
  },
  {
   "cell_type": "code",
   "execution_count": 16,
   "metadata": {},
   "outputs": [],
   "source": [
    "keep = df['Brand'].value_counts()\n",
    "keep = keep[keep>4]\n",
    "keep = keep.index.get_level_values(0).astype(str).values\n",
    "df = df[df['Brand'].isin(keep)]"
   ]
  },
  {
   "cell_type": "code",
   "execution_count": 17,
   "metadata": {},
   "outputs": [],
   "source": [
    "df = df.dropna()"
   ]
  },
  {
   "cell_type": "markdown",
   "metadata": {},
   "source": [
    "# 3. Feature Based Classification"
   ]
  },
  {
   "cell_type": "code",
   "execution_count": 18,
   "metadata": {},
   "outputs": [],
   "source": [
    "from sklearn.preprocessing import OneHotEncoder\n",
    "from sklearn.pipeline import Pipeline\n",
    "from sklearn.compose import ColumnTransformer\n",
    "from sklearn.linear_model import LogisticRegression\n",
    "from sklearn.model_selection import KFold\n",
    "from sklearn.neighbors import KNeighborsClassifier\n",
    "from sklearn.tree import DecisionTreeClassifier\n",
    "from sklearn.ensemble import RandomForestClassifier, VotingClassifier, StackingClassifier\n",
    "from sklearn.svm import SVC\n",
    "from sklearn.neural_network import MLPClassifier\n",
    "from sklearn.model_selection import train_test_split, RandomizedSearchCV, cross_val_score, GridSearchCV, ParameterGrid\n",
    "from category_encoders.binary import BinaryEncoder\n",
    "from category_encoders.target_encoder import TargetEncoder\n",
    "from catboost import CatBoostClassifier, Pool\n",
    "import time"
   ]
  },
  {
   "cell_type": "code",
   "execution_count": 19,
   "metadata": {},
   "outputs": [],
   "source": [
    "categorical_var = ['Bracelet material', 'Case material',\n",
    "       'Condition', 'Dial', 'Gender', 'Movement', 'Scope of delivery',\n",
    "       'private_seller', 'Crystal', 'Decade', 'Diameter_group', 'Country']"
   ]
  },
  {
   "cell_type": "code",
   "execution_count": 20,
   "metadata": {},
   "outputs": [],
   "source": [
    "functions = ['Date', 'Weekday', 'Month', 'Year', 'Chronograph', 'GMT', \n",
    "             'Tachymeter', 'Moon phase', 'Annual calendar', 'Perpetual calendar',\n",
    "             'Tourbillon', 'Flyback', 'Alarm']"
   ]
  },
  {
   "cell_type": "code",
   "execution_count": 21,
   "metadata": {},
   "outputs": [],
   "source": [
    "X = df[categorical_var + functions]\n",
    "y = df['Brand']"
   ]
  },
  {
   "cell_type": "markdown",
   "metadata": {},
   "source": [
    "## 3.1 First test of different classifiers\n",
    "In the first step, the categorical data has to be numerically encoded. <br>\n",
    "The default solution is a onehot dummy encoding. As a downside, this will result in a very large number of variables, making the regression much slower. <br>\n",
    "Binary encoding is a viable alternative resulting in significantly less variables. On the flipside, this method will have some information loss compared to dummy encoding. In addition, the logistic regression model will have some problems with binary encoding, as it does not natively take variable interactions into account. With tree based models this problem is alleviated. <br>\n",
    "I test out three classification models:\n",
    "1. A simple logistic regression model\n",
    "2. A K-nearest Neighbours model\n",
    "3. A decision-tree ensemble model (Random Forest)\n",
    "<br>\n",
    "<br>\n",
    "The baseline results are quite promising, the three classification models have accuracies of 53%, 56% and 61% respectively. <br>\n",
    "As in the regression problem, the Random Forest model delivers the best results, but it is quite slow with onehot encoding. <br>\n",
    "Using binary encoding we can observe a trade-off of 1% drop in accuracy for a 4 time speed-up of the calculation."
   ]
  },
  {
   "cell_type": "code",
   "execution_count": 22,
   "metadata": {},
   "outputs": [
    {
     "name": "stdout",
     "output_type": "stream",
     "text": [
      "onehot\n",
      "LogisticRegression(max_iter=1000, random_state=13). Score: 0.5301291562105177. Time: 244.98690223693848s\n",
      "KNeighborsClassifier(). Score: 0.5568217284050645. Time: 15.981045246124268s\n",
      "RandomForestClassifier(random_state=13). Score: 0.6137308273896627. Time: 43.983306646347046s\n",
      "binary\n",
      "LogisticRegression(max_iter=1000, random_state=13). Score: 0.4787891478371587. Time: 333.80410623550415s\n",
      "KNeighborsClassifier(). Score: 0.5367643250138233. Time: 10.873936891555786s\n",
      "RandomForestClassifier(random_state=13). Score: 0.6021794064919821. Time: 10.155503988265991s\n",
      "Wall time: 10min 59s\n"
     ]
    }
   ],
   "source": [
    "%%time\n",
    "\n",
    "transformers = [\n",
    "    ColumnTransformer([('onehot', OneHotEncoder(handle_unknown='ignore'), categorical_var)], remainder='passthrough'),\n",
    "    ColumnTransformer([('binary', BinaryEncoder(), categorical_var)], remainder='passthrough'),\n",
    "]\n",
    "\n",
    "models = [\n",
    "    LogisticRegression(random_state=13, max_iter=1000),\n",
    "    KNeighborsClassifier(),\n",
    "    RandomForestClassifier(random_state=13),\n",
    "]\n",
    "\n",
    "\n",
    "for transformer in transformers:\n",
    "    print(transformer.transformers[0][0])\n",
    "    for model in models:\n",
    "        start_time = time.time()\n",
    "        pipe = Pipeline([('tf', transformer), ('model', model)])\n",
    "        scores = cross_val_score(pipe, X, y, cv=5, n_jobs=5)\n",
    "        print('{}. Score: {}. Time: {}s'.format(model, np.mean(scores), time.time() - start_time))"
   ]
  },
  {
   "cell_type": "markdown",
   "metadata": {},
   "source": [
    "## 3.2 Gradient boosting\n",
    "It might be possible to increase accuracy even more with gradient boosting. <br>\n",
    "I use the CatBoost algorithm as an implementation of gradient boosting. The catboost package comes with two very useful features. First of all it supports calculation on GPU natively, which significantly speeds of calculation. Secondly, encoding is handled internally and allows for easy output of feature importance. <br>\n",
    "<br>\n",
    "After 1000 iterations, CatBoost achieves an accuracy of 62%. The results are comparable to the Random Forest classifier, but the calculation is significantly slower. <br>\n",
    "Case diameter is by far the most important feature. <br>\n",
    "It is surprising to see the selling country to have such a high importance. "
   ]
  },
  {
   "cell_type": "code",
   "execution_count": 23,
   "metadata": {},
   "outputs": [],
   "source": [
    "df['private_seller'] = df['private_seller'].astype(int)\n",
    "X = df[categorical_var + functions]"
   ]
  },
  {
   "cell_type": "code",
   "execution_count": 24,
   "metadata": {},
   "outputs": [
    {
     "name": "stdout",
     "output_type": "stream",
     "text": [
      "Wall time: 13min 26s\n"
     ]
    },
    {
     "data": {
      "text/plain": [
       "0.6169069891991337"
      ]
     },
     "execution_count": 24,
     "metadata": {},
     "output_type": "execute_result"
    }
   ],
   "source": [
    "%%time\n",
    "\n",
    "model = CatBoostClassifier(cat_features=categorical_var, iterations=1000, random_state=13, task_type='GPU', devices='0:1', early_stopping_rounds=10, verbose=False)\n",
    "np.mean(cross_val_score(model, X, y, cv=5, n_jobs=1))"
   ]
  },
  {
   "cell_type": "code",
   "execution_count": 25,
   "metadata": {},
   "outputs": [
    {
     "name": "stdout",
     "output_type": "stream",
     "text": [
      "Wall time: 2min 38s\n"
     ]
    },
    {
     "data": {
      "text/plain": [
       "<catboost.core.CatBoostClassifier at 0x25534469640>"
      ]
     },
     "execution_count": 25,
     "metadata": {},
     "output_type": "execute_result"
    }
   ],
   "source": [
    "%%time\n",
    "\n",
    "X_train, X_test, y_train, y_test = train_test_split(X, y, test_size=0.2, random_state=13)\n",
    "model.fit(X_train, y_train)"
   ]
  },
  {
   "cell_type": "code",
   "execution_count": 26,
   "metadata": {},
   "outputs": [
    {
     "name": "stdout",
     "output_type": "stream",
     "text": [
      "Wall time: 410 ms\n"
     ]
    },
    {
     "data": {
      "text/plain": [
       "<AxesSubplot:xlabel='feature', ylabel='importance'>"
      ]
     },
     "execution_count": 26,
     "metadata": {},
     "output_type": "execute_result"
    },
    {
     "data": {
      "image/png": "[encoded data removed]",
      "text/plain": [
       "<Figure size 1152x360 with 1 Axes>"
      ]
     },
     "metadata": {
      "needs_background": "light"
     },
     "output_type": "display_data"
    }
   ],
   "source": [
    "%%time\n",
    "\n",
    "pool = Pool(X_train, label=y_train, cat_features=categorical_var)\n",
    "fi = model.get_feature_importance(pool)\n",
    "\n",
    "df_fi = pd.DataFrame({\n",
    "    'feature': X.columns,\n",
    "    'importance': fi\n",
    "})\n",
    "\n",
    "plt.pyplot.figure(figsize=(16,5))\n",
    "plt.pyplot.xticks(rotation=90)\n",
    "sns.barplot(x='feature', y='importance', data=df_fi.sort_values('importance', ascending=False))"
   ]
  },
  {
   "cell_type": "markdown",
   "metadata": {},
   "source": [
    "## 3.3 Hyperparameter tuning for Random Forest\n",
    "The random forest regression has delivered the best results so far. <br>\n",
    "I try to optimize the model by tuning the hyperparameters. Since the model takes a fairly long time to run, I use a randomized search grid. <br>\n",
    "With the optimized parameters, the model improves only slightly by 0.03%. The base parameters seem to be very close to ideal already."
   ]
  },
  {
   "cell_type": "code",
   "execution_count": 27,
   "metadata": {},
   "outputs": [
    {
     "name": "stdout",
     "output_type": "stream",
     "text": [
      "Fitting 3 folds for each of 100 candidates, totalling 300 fits\n",
      "{'model__n_estimators': 500, 'model__min_samples_split': 5, 'model__min_samples_leaf': 1, 'model__max_features': 'auto', 'model__max_depth': 200}\n",
      "0.5944568996088176\n",
      "Wall time: 32min 10s\n"
     ]
    }
   ],
   "source": [
    "%%time\n",
    "\n",
    "params = [\n",
    "    {'model__max_depth': [50, 100, 200, None],\n",
    "     'model__max_features': ['log2', 'auto'],\n",
    "     'model__min_samples_leaf': [1, 2],\n",
    "     'model__min_samples_split': [2, 5, 10],\n",
    "     'model__n_estimators': [100, 200, 500]}]\n",
    "\n",
    "\n",
    "transformer = ColumnTransformer([\n",
    "        ('cat', BinaryEncoder(), categorical_var),\n",
    "    ], remainder='passthrough')\n",
    "\n",
    "\n",
    "pipe = Pipeline([('tf', transformer), ('model',RandomForestClassifier(random_state=13, n_jobs=5))])\n",
    "\n",
    "grid = RandomizedSearchCV(estimator=pipe,\n",
    "             param_distributions=params, n_jobs=1, n_iter=100, cv=3, verbose=1, random_state=13)\n",
    "\n",
    "grid.fit(X, y)\n",
    "\n",
    "print(grid.best_params_)\n",
    "print(grid.best_score_)"
   ]
  },
  {
   "cell_type": "code",
   "execution_count": 29,
   "metadata": {},
   "outputs": [
    {
     "data": {
      "text/plain": [
       "0.6079008460462144"
      ]
     },
     "execution_count": 29,
     "metadata": {},
     "output_type": "execute_result"
    }
   ],
   "source": [
    "transformer = ColumnTransformer([('binary', BinaryEncoder(), categorical_var)], remainder='passthrough')\n",
    "\n",
    "pipe = Pipeline([('tf', transformer), ('model',RandomForestClassifier(random_state=13, n_jobs=5, \n",
    "                                       n_estimators= 500, \n",
    "                                       min_samples_split=5,\n",
    "                                       min_samples_leaf=1,\n",
    "                                       max_features='auto',\n",
    "                                       max_depth = 200))])\n",
    "\n",
    "\n",
    "np.mean(cross_val_score(pipe, X, y, cv=5, n_jobs=5))"
   ]
  },
  {
   "cell_type": "markdown",
   "metadata": {},
   "source": [
    "# 4. Image based classification\n",
    "The offerings on Chrono24 usually contain a picture of the watch. <br>\n",
    "In an earlier step I have used text recongnition to extract words that are present on the watch dial. Since recognition is often times imperfect, the resulting words have been clustered by similarity. For example, Rolex, olex, Role or Boiex would all be in the same cluster. <br>\n",
    "I use the occurence of clusters in each watch as the features for a second classification."
   ]
  },
  {
   "cell_type": "code",
   "execution_count": 30,
   "metadata": {},
   "outputs": [],
   "source": [
    "df_words = pd.read_csv('word_clusters.csv', low_memory=False)\n",
    "df = df.merge(df_words, on='id')\n",
    "\n",
    "X = df[map(str, range(0, 389))]\n",
    "y = df['Brand']"
   ]
  },
  {
   "cell_type": "markdown",
   "metadata": {},
   "source": [
    "## 4.1 First test of different classifiers\n",
    "The K-nearest neighbors classifier seems to have problems with the sparse binary dataset and results in an accuracy of just 41%. <br>\n",
    "A logistic regression and a random forest model have significantly better results of 57% and 55% respectively. <br>"
   ]
  },
  {
   "cell_type": "code",
   "execution_count": 31,
   "metadata": {},
   "outputs": [
    {
     "name": "stdout",
     "output_type": "stream",
     "text": [
      "LogisticRegression(max_iter=1000, random_state=13). Score: 0.5656471125313856. Time: 92.67591071128845s\n",
      "KNeighborsClassifier(). Score: 0.4074640493038119. Time: 12.81178617477417s\n",
      "RandomForestClassifier(random_state=13). Score: 0.55243095183748. Time: 34.621960163116455s\n",
      "Wall time: 2min 20s\n"
     ]
    }
   ],
   "source": [
    "%%time\n",
    "\n",
    "models = [\n",
    "    LogisticRegression(random_state=13, max_iter=1000),\n",
    "    KNeighborsClassifier(),\n",
    "    RandomForestClassifier(random_state=13),\n",
    "]\n",
    "\n",
    "\n",
    "for model in models:\n",
    "    start_time = time.time()\n",
    "    scores = cross_val_score(model, X, y, cv=5, n_jobs=5)\n",
    "    print('{}. Score: {}. Time: {}s'.format(model, np.mean(scores), time.time() - start_time))"
   ]
  },
  {
   "cell_type": "markdown",
   "metadata": {},
   "source": [
    "## 4.2 Gradient boosting\n",
    "CatBoost has an accuracy of 56%. But it is again very time intensive."
   ]
  },
  {
   "cell_type": "code",
   "execution_count": 33,
   "metadata": {},
   "outputs": [
    {
     "name": "stderr",
     "output_type": "stream",
     "text": [
      "Custom logger is already specified. Specify more than one logger at same time is not thread safe."
     ]
    },
    {
     "name": "stdout",
     "output_type": "stream",
     "text": [
      "Wall time: 9min 28s\n"
     ]
    },
    {
     "data": {
      "text/plain": [
       "0.5676557863501484"
      ]
     },
     "execution_count": 33,
     "metadata": {},
     "output_type": "execute_result"
    }
   ],
   "source": [
    "%%time\n",
    "\n",
    "model = CatBoostClassifier(random_state=13, depth = 8,\n",
    "    loss_function='MultiClass', eval_metric = 'Accuracy', task_type='GPU', devices='0:1', early_stopping_rounds=10, verbose=False)\n",
    "\n",
    "\n",
    "np.mean(cross_val_score(model, X, y, cv=5, n_jobs=1))"
   ]
  },
  {
   "cell_type": "markdown",
   "metadata": {},
   "source": [
    "## 4.3 Hyperparameter tuning for random forest\n",
    "The logistic regression performed slightly better than the random forest classifier, but its runtime is also almost three times as long. <br>\n",
    "I try tuning the hyperparameters of the random forest model to improve performance. <br>\n",
    "Using a randomized search grid, I was able to find hyper parameters that increase performance to 57%, marginally overtaking the logistic regression."
   ]
  },
  {
   "cell_type": "code",
   "execution_count": 34,
   "metadata": {},
   "outputs": [
    {
     "name": "stdout",
     "output_type": "stream",
     "text": [
      "Fitting 3 folds for each of 100 candidates, totalling 300 fits\n",
      "{'n_estimators': 200, 'min_samples_split': 20, 'min_samples_leaf': 1, 'max_features': 'log2', 'max_depth': 200}\n",
      "0.5628397402161429\n",
      "Wall time: 56min 52s\n"
     ]
    }
   ],
   "source": [
    "%%time\n",
    "\n",
    "params = [\n",
    "    {'max_depth': [200, 500, None],\n",
    "     'max_features': ['auto', 'log2'],\n",
    "     'min_samples_leaf': [1, 2],\n",
    "     'min_samples_split': [2, 20, 50],\n",
    "     'n_estimators': [100, 200, 500]}]\n",
    "\n",
    "\n",
    "\n",
    "grid = RandomizedSearchCV(estimator=RandomForestClassifier(random_state=13, n_jobs=5),\n",
    "             param_distributions=params, n_jobs=1, n_iter=100, cv=3, verbose=1, random_state=13)\n",
    "\n",
    "grid.fit(X, y)\n",
    "\n",
    "print(grid.best_params_)\n",
    "print(grid.best_score_)"
   ]
  },
  {
   "cell_type": "code",
   "execution_count": 37,
   "metadata": {},
   "outputs": [
    {
     "name": "stdout",
     "output_type": "stream",
     "text": [
      "Wall time: 39.2 s\n"
     ]
    },
    {
     "data": {
      "text/plain": [
       "0.5656699383702352"
      ]
     },
     "execution_count": 37,
     "metadata": {},
     "output_type": "execute_result"
    }
   ],
   "source": [
    "%%time\n",
    "\n",
    "model = RandomForestClassifier(random_state=13, n_jobs=1, \n",
    "                                       n_estimators= 200, \n",
    "                                       min_samples_split=20,\n",
    "                                       min_samples_leaf=1,\n",
    "                                       max_features='log2',\n",
    "                                       max_depth = 200)\n",
    "\n",
    "\n",
    "np.mean(cross_val_score(model, X, y, cv=5, n_jobs=5))"
   ]
  },
  {
   "cell_type": "markdown",
   "metadata": {},
   "source": [
    "# 5 Ensemble models\n",
    "## 5.1 Voting classifier\n",
    "First, I will use a simple voting classifier. <br>\n",
    "The combination of feature and image based classification results in a significant increase in accuracy. On their own they have achieved an accuracy of 60% and 57% respectively, but as an ensemble accuracy is increased to 71%."
   ]
  },
  {
   "cell_type": "code",
   "execution_count": 39,
   "metadata": {},
   "outputs": [],
   "source": [
    "X = df\n",
    "y = df['Brand']"
   ]
  },
  {
   "cell_type": "code",
   "execution_count": 40,
   "metadata": {},
   "outputs": [
    {
     "name": "stdout",
     "output_type": "stream",
     "text": [
      "Wall time: 2min\n"
     ]
    },
    {
     "data": {
      "text/plain": [
       "0.7110477060031956"
      ]
     },
     "execution_count": 40,
     "metadata": {},
     "output_type": "execute_result"
    }
   ],
   "source": [
    "%%time\n",
    "\n",
    "n_cols = len(df[categorical_var + functions].columns)\n",
    "\n",
    "m1 = RandomForestClassifier(random_state=13, n_jobs=5, n_estimators=500, min_samples_split=5, min_samples_leaf=1, max_features= 'auto', max_depth=200)\n",
    "m2 = RandomForestClassifier(random_state=13, n_jobs=5, n_estimators=200, min_samples_split=20, min_samples_leaf=1, max_features= 'log2', max_depth=200)\n",
    "\n",
    "\n",
    "pipe_1 = Pipeline([\n",
    "    ('selector', ColumnTransformer([('selector', 'passthrough', categorical_var + functions)], remainder='drop')),\n",
    "    ('encoder', ColumnTransformer([('encoder', BinaryEncoder(), list(range(0,n_cols)))], remainder='passthrough')),\n",
    "    ('model', m1)\n",
    "])\n",
    "\n",
    "pipe_2 = Pipeline([\n",
    "    ('selector', ColumnTransformer([('selector', 'passthrough', list(map(str, range(0, 389))))], remainder='drop')),\n",
    "    ('model', m2)\n",
    "])\n",
    "\n",
    "\n",
    "clf = VotingClassifier(estimators=[('m1', pipe_1), ('m2', pipe_2)], voting='soft')\n",
    "\n",
    "np.mean(cross_val_score(clf, X, y, cv=5, n_jobs=1))"
   ]
  },
  {
   "cell_type": "markdown",
   "metadata": {},
   "source": [
    "## 5.2 Stacking Classifier\n",
    "Instead of a simple voting classifier, a third regression can be used to get a more precise prediction. <br>\n",
    "I use a logistic regression to classify brands based on the results of the feature and image classification. <br>\n",
    "Accuracy improves compared to the voting classifier to 73%."
   ]
  },
  {
   "cell_type": "code",
   "execution_count": 41,
   "metadata": {},
   "outputs": [
    {
     "name": "stdout",
     "output_type": "stream",
     "text": [
      "Wall time: 12min 22s\n"
     ]
    },
    {
     "data": {
      "text/plain": [
       "0.7366126455147227"
      ]
     },
     "execution_count": 41,
     "metadata": {},
     "output_type": "execute_result"
    }
   ],
   "source": [
    "%%time\n",
    "\n",
    "models = [('m1', pipe_1),\n",
    "          ('m2', pipe_2)]\n",
    "\n",
    "clf = StackingClassifier(estimators=models, final_estimator=LogisticRegression(n_jobs=5))\n",
    "\n",
    "np.mean(cross_val_score(clf, X, y, cv=5, n_jobs=1))"
   ]
  },
  {
   "cell_type": "markdown",
   "metadata": {},
   "source": [
    "# 6 Exkursions\n",
    "## 6.1 Binary Classification\n",
    "It would be interesting to see how well the models I developed above are able to spot a Rolex. <br>\n",
    "To save time, I use the same models and hyper parameters as before instead of repeating all steps. <br>\n",
    "The models works incredibly well, separating Rolex and other brands with an accuracy of 96%."
   ]
  },
  {
   "cell_type": "code",
   "execution_count": 42,
   "metadata": {},
   "outputs": [],
   "source": [
    "X = df\n",
    "y = df['Brand'] == 'Rolex'"
   ]
  },
  {
   "cell_type": "code",
   "execution_count": 43,
   "metadata": {},
   "outputs": [
    {
     "name": "stdout",
     "output_type": "stream",
     "text": [
      "Wall time: 6min 12s\n"
     ]
    },
    {
     "data": {
      "text/plain": [
       "0.9567222095412007"
      ]
     },
     "execution_count": 43,
     "metadata": {},
     "output_type": "execute_result"
    }
   ],
   "source": [
    "%%time\n",
    "\n",
    "n_cols = len(df[categorical_var + functions].columns)\n",
    "\n",
    "m1 = RandomForestClassifier(random_state=13, n_jobs=5, n_estimators=200, min_samples_split=5, min_samples_leaf=1, max_features= 'auto', max_depth=None)\n",
    "m2 = RandomForestClassifier(random_state=13, n_jobs=5, n_estimators=500, min_samples_split=20, min_samples_leaf=1, max_features= 'log2', max_depth=200)\n",
    "\n",
    "\n",
    "pipe_1 = Pipeline([\n",
    "    ('selector', ColumnTransformer([('selector', 'passthrough', categorical_var + functions)], remainder='drop')),\n",
    "    ('encoder', ColumnTransformer([('encoder', BinaryEncoder(), list(range(0,n_cols)))], remainder='passthrough')),\n",
    "    ('model', m1)\n",
    "])\n",
    "\n",
    "pipe_2 = Pipeline([\n",
    "    ('selector', ColumnTransformer([('selector', 'passthrough', list(map(str, range(0, 389))))], remainder='drop')),\n",
    "    ('model', m2)\n",
    "])\n",
    "\n",
    "models = [('m1', pipe_1),\n",
    "          ('m2', pipe_2)]\n",
    "\n",
    "clf = StackingClassifier(estimators=models, final_estimator=LogisticRegression(n_jobs=5))\n",
    "\n",
    "np.mean(cross_val_score(clf, X, y, cv=5, n_jobs=1))"
   ]
  },
  {
   "cell_type": "code",
   "execution_count": null,
   "metadata": {},
   "outputs": [],
   "source": []
  }
 ],
 "metadata": {
  "kernelspec": {
   "display_name": "Python 3",
   "language": "python",
   "name": "python3"
  },
  "language_info": {
   "codemirror_mode": {
    "name": "ipython",
    "version": 3
   },
   "file_extension": ".py",
   "mimetype": "text/x-python",
   "name": "python",
   "nbconvert_exporter": "python",
   "pygments_lexer": "ipython3",
   "version": "3.8.8"
  }
 },
 "nbformat": 4,
 "nbformat_minor": 4
}
