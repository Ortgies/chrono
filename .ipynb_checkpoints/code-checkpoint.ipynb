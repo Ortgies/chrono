{
 "cells": [
  {
   "cell_type": "code",
   "execution_count": 82,
   "id": "a15538a7",
   "metadata": {},
   "outputs": [],
   "source": [
    "import pandas as pd\n",
    "from fastai.tabular.all import *\n",
    "from sklearn.ensemble import RandomForestRegressor\n",
    "from sklearn.metrics import r2_score\n",
    "from scipy.cluster import hierarchy as hc\n",
    "from treeinterpreter import treeinterpreter\n",
    "from waterfall_chart import plot as waterfall\n",
    "import matplotlib.pyplot as plt\n",
    "from sklearn.metrics import mean_squared_error"
   ]
  },
  {
   "cell_type": "code",
   "execution_count": 40,
   "id": "94377c35",
   "metadata": {},
   "outputs": [],
   "source": [
    "df = pd.read_csv('data_v2.csv', low_memory=False)\n",
    "df.drop(columns=['Unnamed: 0', 'Unnamed: 0.1', 'Description', 'Functions'], inplace=True)"
   ]
  },
  {
   "cell_type": "code",
   "execution_count": 41,
   "id": "b172aa3d",
   "metadata": {},
   "outputs": [],
   "source": [
    "def order_category(cat, order):\n",
    "    df[cat] = df[cat].astype('category')\n",
    "    df[cat] = df[cat].cat.set_categories(order, ordered=True)"
   ]
  },
  {
   "cell_type": "code",
   "execution_count": 42,
   "id": "211ce86c",
   "metadata": {},
   "outputs": [],
   "source": [
    "bracelet = 'Platinum','White gold','Rose gold','Yellow gold','Gold/Steel','Silver', 'Titanium', 'Ceramic', 'Steel', 'Aluminium', 'Leather', 'Textile', 'Rubber'\n",
    "order_category('Bracelet material', bracelet)\n",
    "\n",
    "case = 'Steel', 'Gold/Steel', 'Yellow gold', 'Titanium', 'Platinum','Rose gold', 'White gold', 'Ceramic', 'Bronze', 'Carbon','Plastic', 'Silver', 'Aluminum', 'Other'\n",
    "order_category('Case material', case)\n",
    "\n",
    "condition = 'New', 'Unworn', 'Very good', 'Good', 'Fair', 'Poor'\n",
    "order_category('Condition', condition)\n",
    "\n",
    "movement = 'Automatic', 'Manual winding', 'Quartz'\n",
    "order_category('Movement', movement)\n",
    "\n",
    "delivery = 'Original box, original papers', 'Original papers, no original box', 'Original box, no original papers', 'No original box, no original papers', \n",
    "order_category('Scope of delivery', delivery)"
   ]
  },
  {
   "cell_type": "code",
   "execution_count": 43,
   "id": "bd018ab8",
   "metadata": {},
   "outputs": [],
   "source": [
    "cat_columns = ['Bracelet material', 'Brand', 'Case material',\n",
    "       'Condition', 'Dial', 'Gender', 'Location', 'Movement',\n",
    "       'Scope of delivery', 'private_seller', 'Crystal',\n",
    "       'Date', 'Weekday', 'Month', 'Chronograph', 'GMT',\n",
    "       'Tachymeter', 'Moon phase', 'Annual calendar', 'Perpetual calendar',\n",
    "       'Tourbillon', 'Flyback', 'Alarm', 'Country', 'Model', 'Reference number', 'Year']\n",
    "\n",
    "for c in cat_columns:\n",
    "    df[c] = df[c].astype('category')"
   ]
  },
  {
   "cell_type": "markdown",
   "id": "bb1223c1",
   "metadata": {},
   "source": [
    "# 1 Price regression\n",
    "In this section I will try to predict the price of a watch based on the product information on chrono24."
   ]
  },
  {
   "cell_type": "code",
   "execution_count": 73,
   "id": "92e44cf5",
   "metadata": {},
   "outputs": [
    {
     "data": {
      "text/html": [
       "<div>\n",
       "<style scoped>\n",
       "    .dataframe tbody tr th:only-of-type {\n",
       "        vertical-align: middle;\n",
       "    }\n",
       "\n",
       "    .dataframe tbody tr th {\n",
       "        vertical-align: top;\n",
       "    }\n",
       "\n",
       "    .dataframe thead th {\n",
       "        text-align: right;\n",
       "    }\n",
       "</style>\n",
       "<table border=\"1\" class=\"dataframe\">\n",
       "  <thead>\n",
       "    <tr style=\"text-align: right;\">\n",
       "      <th></th>\n",
       "      <th>Bracelet material</th>\n",
       "      <th>Brand</th>\n",
       "      <th>Case diameter</th>\n",
       "      <th>Case material</th>\n",
       "      <th>Condition</th>\n",
       "      <th>Dial</th>\n",
       "      <th>Gender</th>\n",
       "      <th>Location</th>\n",
       "      <th>Model</th>\n",
       "      <th>Movement</th>\n",
       "      <th>...</th>\n",
       "      <th>GMT</th>\n",
       "      <th>Tachymeter</th>\n",
       "      <th>Moon phase</th>\n",
       "      <th>Annual calendar</th>\n",
       "      <th>Perpetual calendar</th>\n",
       "      <th>Tourbillon</th>\n",
       "      <th>Flyback</th>\n",
       "      <th>Alarm</th>\n",
       "      <th>Country</th>\n",
       "      <th>is_valid</th>\n",
       "    </tr>\n",
       "  </thead>\n",
       "  <tbody>\n",
       "    <tr>\n",
       "      <th>0</th>\n",
       "      <td>Steel</td>\n",
       "      <td>Bulgari</td>\n",
       "      <td>41.0</td>\n",
       "      <td>Steel</td>\n",
       "      <td>New</td>\n",
       "      <td>Black</td>\n",
       "      <td>Men's watch/Unisex</td>\n",
       "      <td>United States of America, California, San Mateo</td>\n",
       "      <td>Octo</td>\n",
       "      <td>Automatic</td>\n",
       "      <td>...</td>\n",
       "      <td>0</td>\n",
       "      <td>0</td>\n",
       "      <td>0</td>\n",
       "      <td>0</td>\n",
       "      <td>0</td>\n",
       "      <td>0</td>\n",
       "      <td>0</td>\n",
       "      <td>0</td>\n",
       "      <td>United States of America</td>\n",
       "      <td>0</td>\n",
       "    </tr>\n",
       "    <tr>\n",
       "      <th>1</th>\n",
       "      <td>Steel</td>\n",
       "      <td>Tissot</td>\n",
       "      <td>39.0</td>\n",
       "      <td>Steel</td>\n",
       "      <td>New</td>\n",
       "      <td>Mother of pearl</td>\n",
       "      <td>Men's watch/Unisex</td>\n",
       "      <td>Japan, Tokyo</td>\n",
       "      <td>PR 100</td>\n",
       "      <td>Quartz</td>\n",
       "      <td>...</td>\n",
       "      <td>0</td>\n",
       "      <td>0</td>\n",
       "      <td>0</td>\n",
       "      <td>0</td>\n",
       "      <td>0</td>\n",
       "      <td>0</td>\n",
       "      <td>0</td>\n",
       "      <td>0</td>\n",
       "      <td>Japan</td>\n",
       "      <td>1</td>\n",
       "    </tr>\n",
       "    <tr>\n",
       "      <th>2</th>\n",
       "      <td>Leather</td>\n",
       "      <td>Mido</td>\n",
       "      <td>41.0</td>\n",
       "      <td>Steel</td>\n",
       "      <td>New</td>\n",
       "      <td>Silver</td>\n",
       "      <td>Men's watch/Unisex</td>\n",
       "      <td>Japan, Tokyo</td>\n",
       "      <td>Belluna</td>\n",
       "      <td>Automatic</td>\n",
       "      <td>...</td>\n",
       "      <td>0</td>\n",
       "      <td>0</td>\n",
       "      <td>0</td>\n",
       "      <td>0</td>\n",
       "      <td>0</td>\n",
       "      <td>0</td>\n",
       "      <td>0</td>\n",
       "      <td>0</td>\n",
       "      <td>Japan</td>\n",
       "      <td>0</td>\n",
       "    </tr>\n",
       "    <tr>\n",
       "      <th>3</th>\n",
       "      <td>Steel</td>\n",
       "      <td>Mido</td>\n",
       "      <td>42.0</td>\n",
       "      <td>Steel</td>\n",
       "      <td>New</td>\n",
       "      <td>Black</td>\n",
       "      <td>Men's watch/Unisex</td>\n",
       "      <td>Japan, Tokyo</td>\n",
       "      <td>Multifort GMT</td>\n",
       "      <td>Automatic</td>\n",
       "      <td>...</td>\n",
       "      <td>0</td>\n",
       "      <td>0</td>\n",
       "      <td>0</td>\n",
       "      <td>0</td>\n",
       "      <td>0</td>\n",
       "      <td>0</td>\n",
       "      <td>0</td>\n",
       "      <td>0</td>\n",
       "      <td>Japan</td>\n",
       "      <td>0</td>\n",
       "    </tr>\n",
       "    <tr>\n",
       "      <th>4</th>\n",
       "      <td>Leather</td>\n",
       "      <td>Seiko</td>\n",
       "      <td>42.0</td>\n",
       "      <td>Steel</td>\n",
       "      <td>Unworn</td>\n",
       "      <td>Black</td>\n",
       "      <td>Men's watch/Unisex</td>\n",
       "      <td>Japan, Tokyo</td>\n",
       "      <td>Kinetic</td>\n",
       "      <td>Quartz</td>\n",
       "      <td>...</td>\n",
       "      <td>0</td>\n",
       "      <td>0</td>\n",
       "      <td>0</td>\n",
       "      <td>0</td>\n",
       "      <td>0</td>\n",
       "      <td>0</td>\n",
       "      <td>0</td>\n",
       "      <td>0</td>\n",
       "      <td>Japan</td>\n",
       "      <td>0</td>\n",
       "    </tr>\n",
       "  </tbody>\n",
       "</table>\n",
       "<p>5 rows × 31 columns</p>\n",
       "</div>"
      ],
      "text/plain": [
       "  Bracelet material    Brand  Case diameter Case material Condition  \\\n",
       "0             Steel  Bulgari           41.0         Steel       New   \n",
       "1             Steel   Tissot           39.0         Steel       New   \n",
       "2           Leather     Mido           41.0         Steel       New   \n",
       "3             Steel     Mido           42.0         Steel       New   \n",
       "4           Leather    Seiko           42.0         Steel    Unworn   \n",
       "\n",
       "              Dial              Gender  \\\n",
       "0            Black  Men's watch/Unisex   \n",
       "1  Mother of pearl  Men's watch/Unisex   \n",
       "2           Silver  Men's watch/Unisex   \n",
       "3            Black  Men's watch/Unisex   \n",
       "4            Black  Men's watch/Unisex   \n",
       "\n",
       "                                          Location          Model   Movement  \\\n",
       "0  United States of America, California, San Mateo           Octo  Automatic   \n",
       "1                                     Japan, Tokyo         PR 100     Quartz   \n",
       "2                                     Japan, Tokyo        Belluna  Automatic   \n",
       "3                                     Japan, Tokyo  Multifort GMT  Automatic   \n",
       "4                                     Japan, Tokyo        Kinetic     Quartz   \n",
       "\n",
       "   ... GMT Tachymeter  Moon phase  Annual calendar Perpetual calendar  \\\n",
       "0  ...   0          0           0                0                  0   \n",
       "1  ...   0          0           0                0                  0   \n",
       "2  ...   0          0           0                0                  0   \n",
       "3  ...   0          0           0                0                  0   \n",
       "4  ...   0          0           0                0                  0   \n",
       "\n",
       "  Tourbillon Flyback Alarm                   Country is_valid  \n",
       "0          0       0     0  United States of America        0  \n",
       "1          0       0     0                     Japan        1  \n",
       "2          0       0     0                     Japan        0  \n",
       "3          0       0     0                     Japan        0  \n",
       "4          0       0     0                     Japan        0  \n",
       "\n",
       "[5 rows x 31 columns]"
      ]
     },
     "execution_count": 73,
     "metadata": {},
     "output_type": "execute_result"
    }
   ],
   "source": [
    "df_price = df.drop(columns=['id', 'img_folder'])\n",
    "#df_price['price'] = np.log(df_price['price'])\n",
    "df_price.dropna(inplace=True)\n",
    "df_price.reset_index(inplace=True, drop=True)\n",
    "df_price.head()"
   ]
  },
  {
   "cell_type": "markdown",
   "id": "68d75f5f",
   "metadata": {},
   "source": [
    "As shown in the histograms, watch price is heavily skewed to the left with most watches pricing in below $10k. <br>\n",
    "For this reason I log-transform the dependent variable to get a distribution which is closer to normal."
   ]
  },
  {
   "cell_type": "code",
   "execution_count": 74,
   "id": "3e01d87c",
   "metadata": {},
   "outputs": [
    {
     "data": {
      "image/png": "[encoded data removed]",
      "text/plain": [
       "<Figure size 864x216 with 2 Axes>"
      ]
     },
     "metadata": {
      "needs_background": "light"
     },
     "output_type": "display_data"
    }
   ],
   "source": [
    "fig, axes = plt.subplots(nrows=1, ncols=2, figsize=(12, 3))\n",
    "axes[0].hist(df_price['price'], bins=50)\n",
    "axes[1].hist(np.log(df_price['price']), bins=50)\n",
    "fig.tight_layout()"
   ]
  },
  {
   "cell_type": "code",
   "execution_count": 75,
   "id": "5a8b0c94",
   "metadata": {},
   "outputs": [],
   "source": [
    "df_price['price'] = np.log(df_price['price'])"
   ]
  },
  {
   "cell_type": "code",
   "execution_count": 76,
   "id": "9b7f81f0",
   "metadata": {},
   "outputs": [
    {
     "name": "stdout",
     "output_type": "stream",
     "text": [
      "<class 'pandas.core.frame.DataFrame'>\n",
      "RangeIndex: 45669 entries, 0 to 45668\n",
      "Data columns (total 31 columns):\n",
      " #   Column              Non-Null Count  Dtype   \n",
      "---  ------              --------------  -----   \n",
      " 0   Bracelet material   45669 non-null  category\n",
      " 1   Brand               45669 non-null  category\n",
      " 2   Case diameter       45669 non-null  float64 \n",
      " 3   Case material       45669 non-null  category\n",
      " 4   Condition           45669 non-null  category\n",
      " 5   Dial                45669 non-null  category\n",
      " 6   Gender              45669 non-null  category\n",
      " 7   Location            45669 non-null  category\n",
      " 8   Model               45669 non-null  category\n",
      " 9   Movement            45669 non-null  category\n",
      " 10  Reference number    45669 non-null  category\n",
      " 11  Scope of delivery   45669 non-null  category\n",
      " 12  Year of production  45669 non-null  float64 \n",
      " 13  price               45669 non-null  float64 \n",
      " 14  private_seller      45669 non-null  category\n",
      " 15  Crystal             45669 non-null  category\n",
      " 16  Date                45669 non-null  category\n",
      " 17  Weekday             45669 non-null  category\n",
      " 18  Month               45669 non-null  category\n",
      " 19  Year                45669 non-null  category\n",
      " 20  Chronograph         45669 non-null  category\n",
      " 21  GMT                 45669 non-null  category\n",
      " 22  Tachymeter          45669 non-null  category\n",
      " 23  Moon phase          45669 non-null  category\n",
      " 24  Annual calendar     45669 non-null  category\n",
      " 25  Perpetual calendar  45669 non-null  category\n",
      " 26  Tourbillon          45669 non-null  category\n",
      " 27  Flyback             45669 non-null  category\n",
      " 28  Alarm               45669 non-null  category\n",
      " 29  Country             45669 non-null  category\n",
      " 30  is_valid            45669 non-null  int64   \n",
      "dtypes: category(27), float64(3), int64(1)\n",
      "memory usage: 3.6 MB\n"
     ]
    }
   ],
   "source": [
    "df_price.info()"
   ]
  },
  {
   "cell_type": "code",
   "execution_count": 77,
   "id": "a6b42870",
   "metadata": {},
   "outputs": [
    {
     "data": {
      "text/plain": [
       "(2, 27)"
      ]
     },
     "execution_count": 77,
     "metadata": {},
     "output_type": "execute_result"
    }
   ],
   "source": [
    "cont,cat = cont_cat_split(df_price.drop(columns=['is_valid']), 1, dep_var='price')\n",
    "len(cont),len(cat)"
   ]
  },
  {
   "cell_type": "code",
   "execution_count": 78,
   "id": "3c24f655",
   "metadata": {},
   "outputs": [
    {
     "data": {
      "text/plain": [
       "(36553, 9116)"
      ]
     },
     "execution_count": 78,
     "metadata": {},
     "output_type": "execute_result"
    }
   ],
   "source": [
    "def splitter(df):\n",
    "    train = df.index[df['is_valid'] == 0].tolist()\n",
    "    valid = df.index[df['is_valid'] == 1].tolist()\n",
    "    return train,valid\n",
    "\n",
    "\n",
    "to = TabularPandas(df_price.drop(columns=['is_valid']), [Categorify], cat, cont, y_names='price', splits=splitter(df_price))\n",
    "len(to.train),len(to.valid)"
   ]
  },
  {
   "cell_type": "code",
   "execution_count": 79,
   "id": "51da9f2c",
   "metadata": {},
   "outputs": [],
   "source": [
    "xs,y = to.train.xs,to.train.y\n",
    "valid_xs,valid_y = to.valid.xs,to.valid.y"
   ]
  },
  {
   "cell_type": "markdown",
   "id": "6b6f614b",
   "metadata": {},
   "source": [
    "## 1.1 Random Forest"
   ]
  },
  {
   "cell_type": "code",
   "execution_count": 80,
   "id": "7d161e58",
   "metadata": {},
   "outputs": [
    {
     "data": {
      "text/plain": [
       "RandomForestRegressor(n_jobs=-1)"
      ]
     },
     "execution_count": 80,
     "metadata": {},
     "output_type": "execute_result"
    }
   ],
   "source": [
    "model = RandomForestRegressor(n_jobs=-1, n_estimators=100)\n",
    "model.fit(xs.values, y)"
   ]
  },
  {
   "cell_type": "code",
   "execution_count": 81,
   "id": "f7c3ced0",
   "metadata": {},
   "outputs": [],
   "source": [
    "def r_mse(pred,y): return round(math.sqrt(((pred-y)**2).mean()), 6)\n",
    "def m_rmse(m, xs, y): return r_mse(m.predict(xs), y)"
   ]
  },
  {
   "cell_type": "code",
   "execution_count": 83,
   "id": "0bc2b952",
   "metadata": {},
   "outputs": [
    {
     "data": {
      "text/plain": [
       "(0.129584, 0.344085)"
      ]
     },
     "execution_count": 83,
     "metadata": {},
     "output_type": "execute_result"
    }
   ],
   "source": [
    "m_rmse(model, xs.values, y), m_rmse(model, valid_xs.values, valid_y)"
   ]
  },
  {
   "cell_type": "code",
   "execution_count": 84,
   "id": "fb05bb58",
   "metadata": {},
   "outputs": [
    {
     "data": {
      "image/png": "[encoded data removed]",
      "text/plain": [
       "<Figure size 432x288 with 1 Axes>"
      ]
     },
     "metadata": {
      "needs_background": "light"
     },
     "output_type": "display_data"
    }
   ],
   "source": [
    "preds = np.stack([t.predict(valid_xs.values) for t in model.estimators_])\n",
    "plt.plot([r_mse(preds[:i+1].mean(0), valid_y) for i in range(100)]);"
   ]
  },
  {
   "cell_type": "code",
   "execution_count": 85,
   "id": "2919bc2f",
   "metadata": {},
   "outputs": [
    {
     "data": {
      "text/plain": [
       "0.9318572936816761"
      ]
     },
     "execution_count": 85,
     "metadata": {},
     "output_type": "execute_result"
    }
   ],
   "source": [
    "r2_score(valid_y, model.predict(valid_xs.values))"
   ]
  },
  {
   "cell_type": "code",
   "execution_count": null,
   "id": "d5489db3",
   "metadata": {},
   "outputs": [],
   "source": []
  }
 ],
 "metadata": {
  "kernelspec": {
   "display_name": "Python 3 (ipykernel)",
   "language": "python",
   "name": "python3"
  },
  "language_info": {
   "codemirror_mode": {
    "name": "ipython",
    "version": 3
   },
   "file_extension": ".py",
   "mimetype": "text/x-python",
   "name": "python",
   "nbconvert_exporter": "python",
   "pygments_lexer": "ipython3",
   "version": "3.7.11"
  }
 },
 "nbformat": 4,
 "nbformat_minor": 5
}
