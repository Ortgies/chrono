{
 "cells": [
  {
   "cell_type": "code",
   "execution_count": 1,
   "metadata": {},
   "outputs": [],
   "source": [
    "import pandas as pd\n",
    "import numpy as np\n",
    "import seaborn as sns\n",
    "import matplotlib.pyplot as plt"
   ]
  },
  {
   "cell_type": "code",
   "execution_count": 2,
   "metadata": {},
   "outputs": [],
   "source": [
    "def warn(*args, **kwargs):\n",
    "    pass\n",
    "import warnings\n",
    "warnings.warn = warn"
   ]
  },
  {
   "cell_type": "code",
   "execution_count": 3,
   "metadata": {},
   "outputs": [
    {
     "name": "stdout",
     "output_type": "stream",
     "text": [
      "46090\n"
     ]
    },
    {
     "data": {
      "text/html": [
       "<div>\n",
       "<style scoped>\n",
       "    .dataframe tbody tr th:only-of-type {\n",
       "        vertical-align: middle;\n",
       "    }\n",
       "\n",
       "    .dataframe tbody tr th {\n",
       "        vertical-align: top;\n",
       "    }\n",
       "\n",
       "    .dataframe thead th {\n",
       "        text-align: right;\n",
       "    }\n",
       "</style>\n",
       "<table border=\"1\" class=\"dataframe\">\n",
       "  <thead>\n",
       "    <tr style=\"text-align: right;\">\n",
       "      <th></th>\n",
       "      <th>Bracelet material</th>\n",
       "      <th>Brand</th>\n",
       "      <th>Case diameter</th>\n",
       "      <th>Case material</th>\n",
       "      <th>Condition</th>\n",
       "      <th>Dial</th>\n",
       "      <th>Gender</th>\n",
       "      <th>Model</th>\n",
       "      <th>Movement</th>\n",
       "      <th>Scope of delivery</th>\n",
       "      <th>...</th>\n",
       "      <th>Chronograph</th>\n",
       "      <th>GMT</th>\n",
       "      <th>Tachymeter</th>\n",
       "      <th>Moon phase</th>\n",
       "      <th>Annual calendar</th>\n",
       "      <th>Perpetual calendar</th>\n",
       "      <th>Tourbillon</th>\n",
       "      <th>Flyback</th>\n",
       "      <th>Alarm</th>\n",
       "      <th>Country</th>\n",
       "    </tr>\n",
       "  </thead>\n",
       "  <tbody>\n",
       "    <tr>\n",
       "      <th>0</th>\n",
       "      <td>Steel</td>\n",
       "      <td>Bulgari</td>\n",
       "      <td>41.0</td>\n",
       "      <td>Steel</td>\n",
       "      <td>New</td>\n",
       "      <td>Black</td>\n",
       "      <td>Men's watch/Unisex</td>\n",
       "      <td>Octo</td>\n",
       "      <td>Automatic</td>\n",
       "      <td>Original box, original papers</td>\n",
       "      <td>...</td>\n",
       "      <td>0</td>\n",
       "      <td>0</td>\n",
       "      <td>0</td>\n",
       "      <td>0</td>\n",
       "      <td>0</td>\n",
       "      <td>0</td>\n",
       "      <td>0</td>\n",
       "      <td>0</td>\n",
       "      <td>0</td>\n",
       "      <td>United States of America</td>\n",
       "    </tr>\n",
       "    <tr>\n",
       "      <th>1</th>\n",
       "      <td>Steel</td>\n",
       "      <td>Tissot</td>\n",
       "      <td>39.0</td>\n",
       "      <td>Steel</td>\n",
       "      <td>New</td>\n",
       "      <td>Mother of pearl</td>\n",
       "      <td>Men's watch/Unisex</td>\n",
       "      <td>PR 100</td>\n",
       "      <td>Quartz</td>\n",
       "      <td>Original box, no original papers</td>\n",
       "      <td>...</td>\n",
       "      <td>0</td>\n",
       "      <td>0</td>\n",
       "      <td>0</td>\n",
       "      <td>0</td>\n",
       "      <td>0</td>\n",
       "      <td>0</td>\n",
       "      <td>0</td>\n",
       "      <td>0</td>\n",
       "      <td>0</td>\n",
       "      <td>Japan</td>\n",
       "    </tr>\n",
       "    <tr>\n",
       "      <th>2</th>\n",
       "      <td>Leather</td>\n",
       "      <td>Mido</td>\n",
       "      <td>41.0</td>\n",
       "      <td>Steel</td>\n",
       "      <td>New</td>\n",
       "      <td>Silver</td>\n",
       "      <td>Men's watch/Unisex</td>\n",
       "      <td>Belluna</td>\n",
       "      <td>Automatic</td>\n",
       "      <td>Original box, original papers</td>\n",
       "      <td>...</td>\n",
       "      <td>0</td>\n",
       "      <td>0</td>\n",
       "      <td>0</td>\n",
       "      <td>0</td>\n",
       "      <td>0</td>\n",
       "      <td>0</td>\n",
       "      <td>0</td>\n",
       "      <td>0</td>\n",
       "      <td>0</td>\n",
       "      <td>Japan</td>\n",
       "    </tr>\n",
       "    <tr>\n",
       "      <th>3</th>\n",
       "      <td>Steel</td>\n",
       "      <td>Mido</td>\n",
       "      <td>42.0</td>\n",
       "      <td>Steel</td>\n",
       "      <td>New</td>\n",
       "      <td>Black</td>\n",
       "      <td>Men's watch/Unisex</td>\n",
       "      <td>Multifort GMT</td>\n",
       "      <td>Automatic</td>\n",
       "      <td>Original box, original papers</td>\n",
       "      <td>...</td>\n",
       "      <td>0</td>\n",
       "      <td>0</td>\n",
       "      <td>0</td>\n",
       "      <td>0</td>\n",
       "      <td>0</td>\n",
       "      <td>0</td>\n",
       "      <td>0</td>\n",
       "      <td>0</td>\n",
       "      <td>0</td>\n",
       "      <td>Japan</td>\n",
       "    </tr>\n",
       "    <tr>\n",
       "      <th>4</th>\n",
       "      <td>Leather</td>\n",
       "      <td>Seiko</td>\n",
       "      <td>42.0</td>\n",
       "      <td>Steel</td>\n",
       "      <td>Unworn</td>\n",
       "      <td>Black</td>\n",
       "      <td>Men's watch/Unisex</td>\n",
       "      <td>Kinetic</td>\n",
       "      <td>Quartz</td>\n",
       "      <td>Original box, original papers</td>\n",
       "      <td>...</td>\n",
       "      <td>0</td>\n",
       "      <td>0</td>\n",
       "      <td>0</td>\n",
       "      <td>0</td>\n",
       "      <td>0</td>\n",
       "      <td>0</td>\n",
       "      <td>0</td>\n",
       "      <td>0</td>\n",
       "      <td>0</td>\n",
       "      <td>Japan</td>\n",
       "    </tr>\n",
       "  </tbody>\n",
       "</table>\n",
       "<p>5 rows × 28 columns</p>\n",
       "</div>"
      ],
      "text/plain": [
       "  Bracelet material    Brand  Case diameter Case material Condition  \\\n",
       "0             Steel  Bulgari           41.0         Steel       New   \n",
       "1             Steel   Tissot           39.0         Steel       New   \n",
       "2           Leather     Mido           41.0         Steel       New   \n",
       "3             Steel     Mido           42.0         Steel       New   \n",
       "4           Leather    Seiko           42.0         Steel    Unworn   \n",
       "\n",
       "              Dial              Gender          Model   Movement  \\\n",
       "0            Black  Men's watch/Unisex           Octo  Automatic   \n",
       "1  Mother of pearl  Men's watch/Unisex         PR 100     Quartz   \n",
       "2           Silver  Men's watch/Unisex        Belluna  Automatic   \n",
       "3            Black  Men's watch/Unisex  Multifort GMT  Automatic   \n",
       "4            Black  Men's watch/Unisex        Kinetic     Quartz   \n",
       "\n",
       "                  Scope of delivery  ...  Chronograph  GMT  Tachymeter  \\\n",
       "0     Original box, original papers  ...            0    0           0   \n",
       "1  Original box, no original papers  ...            0    0           0   \n",
       "2     Original box, original papers  ...            0    0           0   \n",
       "3     Original box, original papers  ...            0    0           0   \n",
       "4     Original box, original papers  ...            0    0           0   \n",
       "\n",
       "  Moon phase  Annual calendar  Perpetual calendar  Tourbillon  Flyback  Alarm  \\\n",
       "0          0                0                   0           0        0      0   \n",
       "1          0                0                   0           0        0      0   \n",
       "2          0                0                   0           0        0      0   \n",
       "3          0                0                   0           0        0      0   \n",
       "4          0                0                   0           0        0      0   \n",
       "\n",
       "                    Country  \n",
       "0  United States of America  \n",
       "1                     Japan  \n",
       "2                     Japan  \n",
       "3                     Japan  \n",
       "4                     Japan  \n",
       "\n",
       "[5 rows x 28 columns]"
      ]
     },
     "execution_count": 3,
     "metadata": {},
     "output_type": "execute_result"
    }
   ],
   "source": [
    "df = pd.read_csv('data_modified.csv', low_memory=False)\n",
    "df = df.drop(columns=['Unnamed: 0', 'Description', 'Reference number', 'Location', 'id', 'Functions'])\n",
    "df = df.dropna()\n",
    "print(len(df))\n",
    "df.head()"
   ]
  },
  {
   "cell_type": "markdown",
   "metadata": {},
   "source": [
    "# 1 Exploratory analysis\n",
    "## 1.1 Price\n",
    "The mean price of a watch on Chrono24 is \\\\$12480 with a median of \\\\$5650. <br>\n",
    "Watches start at \\\\$30 and range up to \\\\$921236. <br>\n",
    "As shown in the histogram, the distribution of prices is heavely skewed to the left. Is is probably a good idea to transform the dependend variable. A log-transformation will get the distribution closer to a normal distribution."
   ]
  },
  {
   "cell_type": "code",
   "execution_count": 4,
   "metadata": {},
   "outputs": [
    {
     "data": {
      "text/plain": [
       "count     46090.000000\n",
       "mean      12479.643979\n",
       "std       26859.698690\n",
       "min          30.000000\n",
       "25%        2309.000000\n",
       "50%        5650.000000\n",
       "75%       13008.250000\n",
       "max      921236.000000\n",
       "Name: price, dtype: float64"
      ]
     },
     "execution_count": 4,
     "metadata": {},
     "output_type": "execute_result"
    }
   ],
   "source": [
    "df.price.describe()"
   ]
  },
  {
   "cell_type": "code",
   "execution_count": 5,
   "metadata": {},
   "outputs": [
    {
     "data": {
      "text/plain": [
       "<seaborn.axisgrid.FacetGrid at 0x235b6f0daf0>"
      ]
     },
     "execution_count": 5,
     "metadata": {},
     "output_type": "execute_result"
    },
    {
     "data": {
      "image/png": "[encoded data removed]",
      "text/plain": [
       "<Figure size 720x360 with 1 Axes>"
      ]
     },
     "metadata": {
      "needs_background": "light"
     },
     "output_type": "display_data"
    }
   ],
   "source": [
    "sns.displot(data=df, x=df['price'], kind='hist', fill=True, height=5, aspect=2)"
   ]
  },
  {
   "cell_type": "code",
   "execution_count": 6,
   "metadata": {},
   "outputs": [
    {
     "data": {
      "text/plain": [
       "<seaborn.axisgrid.FacetGrid at 0x235bc0c8310>"
      ]
     },
     "execution_count": 6,
     "metadata": {},
     "output_type": "execute_result"
    },
    {
     "data": {
      "image/png": "[encoded data removed]",
      "text/plain": [
       "<Figure size 720x360 with 1 Axes>"
      ]
     },
     "metadata": {
      "needs_background": "light"
     },
     "output_type": "display_data"
    }
   ],
   "source": [
    "sns.displot(data=df, x=np.log(df['price']), kind='hist', fill=True, height=5, aspect=2)"
   ]
  },
  {
   "cell_type": "markdown",
   "metadata": {},
   "source": [
    "## 1.2 Brands\n",
    "When sorting the brands by highest average price, we can see a few very familiar names. <br> \n",
    "Two members of the so called 'Holy Trinity': Audemars Piguet and Patek Phillipe with average prices in the sixty-thousands. <br>\n",
    "The most famous German watchmaker A. Lange & Söhne with a mean price of \\\\$55695 and the watch making legend F.P. Journe with an average price of \\\\$102912 make the list as well. <br>\n",
    "The ranking is topped by Richard Mille, famous for their ridiculously expensive watches and celebrity endorsements with a mean selling price of \\\\$316478."
   ]
  },
  {
   "cell_type": "code",
   "execution_count": 5,
   "metadata": {},
   "outputs": [
    {
     "data": {
      "text/plain": [
       "Brand\n",
       "Richard Mille       316478.533333\n",
       "Greubel Forsey      293750.000000\n",
       "F.P.Journe          102912.000000\n",
       "De Bethune          101631.666667\n",
       "Patek Philippe       68669.957155\n",
       "Audemars Piguet      60308.138194\n",
       "A. Lange & Söhne     55694.768212\n",
       "Roger Dubuis         45161.755556\n",
       "HYT                  44115.000000\n",
       "Urwerk               33854.000000\n",
       "Name: price, dtype: float64"
      ]
     },
     "execution_count": 5,
     "metadata": {},
     "output_type": "execute_result"
    }
   ],
   "source": [
    "df.groupby('Brand')['price'].mean().sort_values(ascending=False)[0:10]"
   ]
  },
  {
   "cell_type": "markdown",
   "metadata": {},
   "source": [
    "## 1.3 Condition\n",
    "As expected, the condition of the watch is an important factor for its selling price. <br>\n",
    "In general, the better the condition the higher the asking price. <br>\n",
    "But there is one exception to this rule: unworn watches, or watches in a 'very good' condition sell for higher prices than watches which are classified as 'New'. <br>\n",
    "This seems unintuitive but can be explained with a bit of knowledge in the sales process of luxury watches. Many of the most prestigious watchmakers (e.g. Rolex, Audemars Piguet, Patek Phillipe) sell their products exclusively through their network of authorized dealers (AD). These sellers are under a number of restrictions to protect the brand image. For one, they are usually required to only sell watches in-person, which means ADs cant sell these watches online on Chrono24. Secondly, many ADs are required to unpack the watches at the time of sale and remove all protective material.\n",
    "This has the following effect: customers are only able to buy these watches online from resellers ('gray dealers') and these resellers have no access to watches that can classify as 'New'. <br>\n",
    "The distribution plot shows that 'New' group contains a lot more affordable watches compared to the 'Unworn' and 'Very good' groups."
   ]
  },
  {
   "cell_type": "code",
   "execution_count": 6,
   "metadata": {},
   "outputs": [
    {
     "data": {
      "text/plain": [
       "Condition\n",
       "Unworn       18296.950617\n",
       "Very good    13425.638004\n",
       "New          10727.698780\n",
       "Good          8571.116790\n",
       "Fair          7161.645161\n",
       "Poor          3964.680000\n",
       "Name: price, dtype: float64"
      ]
     },
     "execution_count": 6,
     "metadata": {},
     "output_type": "execute_result"
    }
   ],
   "source": [
    "df.groupby('Condition')['price'].mean().sort_values(ascending=False)"
   ]
  },
  {
   "cell_type": "code",
   "execution_count": 7,
   "metadata": {},
   "outputs": [
    {
     "data": {
      "text/plain": [
       "<seaborn.axisgrid.FacetGrid at 0x1e5bf9c1d30>"
      ]
     },
     "execution_count": 7,
     "metadata": {},
     "output_type": "execute_result"
    },
    {
     "data": {
      "image/png": "[encoded data removed]",
      "text/plain": [
       "<Figure size 626.125x360 with 1 Axes>"
      ]
     },
     "metadata": {
      "needs_background": "light"
     },
     "output_type": "display_data"
    }
   ],
   "source": [
    "sns.displot(data=df, x=np.log(df['price']), hue='Condition', kind='kde', fill=True, palette=sns.color_palette('bright')[:6], height=5, aspect=1.5)"
   ]
  },
  {
   "cell_type": "markdown",
   "metadata": {},
   "source": [
    "## 1.4 Seller\n",
    "The effect of seller is self explanatory. <br>\n",
    "Professional sellers are more trustworthy and may offer a warranty. Most people will prefer to handle very expensive purchases through professional dealers. <br>\n",
    "As a result, the average selling price of a professional seller is more than twice as high compared to a private seller."
   ]
  },
  {
   "cell_type": "code",
   "execution_count": 8,
   "metadata": {},
   "outputs": [
    {
     "data": {
      "text/plain": [
       "private_seller\n",
       "0.0    13142.157717\n",
       "1.0     6164.265082\n",
       "Name: price, dtype: float64"
      ]
     },
     "execution_count": 8,
     "metadata": {},
     "output_type": "execute_result"
    }
   ],
   "source": [
    "df.groupby('private_seller')['price'].mean().sort_values(ascending=False)"
   ]
  },
  {
   "cell_type": "markdown",
   "metadata": {},
   "source": [
    "## 1.5 Dial\n",
    "There are some price differences regarding the dial color of a watch. <br>\n",
    "Transparent dials are especially expensive, trading almost 500% above the average. Transparent dials are often found in top of the line concept watches, showing off expensive complications and high-end finishing. <br>\n",
    "Interestingly Brown and Purple command a significant premium as well. There might certain, very expensive models in this particular color that I am unaware of. <br>\n",
    "Bordeaux and Red are seemingly out of style and make the bottom of the list.\n",
    "Black and Silver are the most common dials colors and both have mean prices of approximately \\\\$10800. <br>\n",
    "Blue is the third most common dial color and has a 50\\% price premium compared to black and silver. Blue has been the trend color in watches for the last few years with watches like the blue Patek Philippe Nautilus, Rolex Milgauss and Vacheron Constantin Overseas being extremely sought after. <br>\n",
    "In 2021 the biggest names in the industry started to push for Green as the next big thing and while still uncommon on Chrono24, green dials already sell for 60\\% more than the black and silver baseline."
   ]
  },
  {
   "cell_type": "code",
   "execution_count": 9,
   "metadata": {},
   "outputs": [
    {
     "data": {
      "text/plain": [
       "Dial\n",
       "Transparent        62492.261950\n",
       "Brown              24788.296154\n",
       "Purple             19513.273810\n",
       "Green              16193.660184\n",
       "Blue               14958.208700\n",
       "Pink               14667.141328\n",
       "Grey               13171.372353\n",
       "Gold               12665.963039\n",
       "Yellow             11891.481707\n",
       "White              10819.062014\n",
       "Champagne          10797.716226\n",
       "Black              10759.912666\n",
       "Silver             10397.057008\n",
       "Mother of pearl     9835.585507\n",
       "Bronze              9659.761905\n",
       "Orange              9271.402439\n",
       "Red                 7609.350000\n",
       "Bordeaux            7272.459459\n",
       "Name: price, dtype: float64"
      ]
     },
     "execution_count": 9,
     "metadata": {},
     "output_type": "execute_result"
    }
   ],
   "source": [
    "df.groupby('Dial')['price'].mean().sort_values(ascending=False)"
   ]
  },
  {
   "cell_type": "markdown",
   "metadata": {},
   "source": [
    "## 1.6 Materials\n",
    "As one would expect the prices of different case and bracelet materials are roughly equivalent to their material costs. Precious metals are at the top of the list while plastic is at the bottom. <br>\n",
    "The difference between rose- and white gold on the one hand and yellow gold on the other is quite interesting. Cases made out of the former are almost twice as expensive compared to the latter. The difference in bracelets is even larger with white gold bracelets being 70% more expensive and rose gold bracelets being 160% more expensive than yellow gold bracelets. <br>\n",
    "It might look strange that silver is almost at the bottom. No major watch maker has used silver as a material in the last 50 plus years, so almost all silver watches on Chrono24 will be very old and thus cheaper."
   ]
  },
  {
   "cell_type": "code",
   "execution_count": 10,
   "metadata": {},
   "outputs": [
    {
     "data": {
      "text/plain": [
       "Case material\n",
       "Platinum       88706.178451\n",
       "Carbon         50218.425837\n",
       "Rose gold      38875.204502\n",
       "White gold     35842.354883\n",
       "Yellow gold    21281.816950\n",
       "Other          19371.400000\n",
       "Titanium       14447.594793\n",
       "Ceramic        13892.339623\n",
       "Gold/Steel      9889.750661\n",
       "Steel           7862.139490\n",
       "Bronze          6012.726852\n",
       "Silver          3553.909910\n",
       "Plastic         1798.708955\n",
       "Aluminum        1714.216216\n",
       "Name: price, dtype: float64"
      ]
     },
     "execution_count": 10,
     "metadata": {},
     "output_type": "execute_result"
    }
   ],
   "source": [
    "df.groupby('Case material')['price'].mean().sort_values(ascending=False)"
   ]
  },
  {
   "cell_type": "code",
   "execution_count": 11,
   "metadata": {},
   "outputs": [
    {
     "data": {
      "text/plain": [
       "Bracelet material\n",
       "Platinum       111200.527473\n",
       "Rose gold       65369.574043\n",
       "White gold      42233.591981\n",
       "Yellow gold     25143.155664\n",
       "Rubber          16771.825749\n",
       "Ceramic         12801.169355\n",
       "Leather         10954.284318\n",
       "Gold/Steel      10594.275007\n",
       "Textile          9905.497326\n",
       "Steel            9538.326315\n",
       "Titanium         7890.582301\n",
       "Silver           5215.888889\n",
       "Aluminium        1668.000000\n",
       "Name: price, dtype: float64"
      ]
     },
     "execution_count": 11,
     "metadata": {},
     "output_type": "execute_result"
    }
   ],
   "source": [
    "df.groupby('Bracelet material')['price'].mean().sort_values(ascending=False)"
   ]
  },
  {
   "cell_type": "markdown",
   "metadata": {},
   "source": [
    "## 1.7 Size and Gender\n",
    "The price of a watch increases with its case diameter up to a maximum of 40mm. This does not come as a surprise as 40mm is currently the standard size of male and unisex watches. <br>\n",
    "The average price peaks at 40mm and decreases for larger sizes. At 50mm and 60mm, there are two additional peaks, altough with a very high variance. <br>\n",
    "Womens watches are only twice as expensive compared to Men's watches, a result of their generally much smaller size. <br>"
   ]
  },
  {
   "cell_type": "code",
   "execution_count": 12,
   "metadata": {},
   "outputs": [],
   "source": [
    "## drop watches under 14mm, these are most likely wrong values\n",
    "df = df[df['Case diameter'] > 13]"
   ]
  },
  {
   "cell_type": "code",
   "execution_count": 13,
   "metadata": {},
   "outputs": [
    {
     "data": {
      "text/plain": [
       "<seaborn.axisgrid.FacetGrid at 0x1e5c23c74c0>"
      ]
     },
     "execution_count": 13,
     "metadata": {},
     "output_type": "execute_result"
    },
    {
     "data": {
      "image/png": "[encoded data removed]",
      "text/plain": [
       "<Figure size 360x360 with 1 Axes>"
      ]
     },
     "metadata": {
      "needs_background": "light"
     },
     "output_type": "display_data"
    }
   ],
   "source": [
    "sns.relplot(x=\"Case diameter\", y=\"price\", kind=\"line\", data=df)"
   ]
  },
  {
   "cell_type": "code",
   "execution_count": 14,
   "metadata": {},
   "outputs": [],
   "source": [
    "df['Diameter_group'] = 0\n",
    "for i in range(0, 24):\n",
    "    start = 14 + i*2\n",
    "    end = start + 1\n",
    "    df.loc[(df['Case diameter'] >= start) & (df['Case diameter'] <= end), 'Diameter_group'] = '{}-{}'.format(start, end)"
   ]
  },
  {
   "cell_type": "code",
   "execution_count": 15,
   "metadata": {},
   "outputs": [
    {
     "data": {
      "image/png": "[encoded data removed]",
      "text/plain": [
       "<Figure size 1152x288 with 1 Axes>"
      ]
     },
     "metadata": {
      "needs_background": "light"
     },
     "output_type": "display_data"
    }
   ],
   "source": [
    "plt.figure(figsize=(16,4))\n",
    "sns.barplot(x=\"Diameter_group\", y=\"price\", data=df.sort_values('Case diameter'))\n",
    "plt.show()"
   ]
  },
  {
   "cell_type": "code",
   "execution_count": 16,
   "metadata": {},
   "outputs": [
    {
     "data": {
      "text/plain": [
       "Gender\n",
       "Men's watch/Unisex    13535.409959\n",
       "Women's watch          7153.410733\n",
       "Name: price, dtype: float64"
      ]
     },
     "execution_count": 16,
     "metadata": {},
     "output_type": "execute_result"
    }
   ],
   "source": [
    "df.groupby('Gender')['price'].mean().sort_values(ascending=False)"
   ]
  },
  {
   "cell_type": "markdown",
   "metadata": {},
   "source": [
    "## 1.8 Year of Production\n",
    "The price of a watch generally decreases with age but there are two exceptions. Watches from the World War 2 era sell for very high prices. Secondly, the average price of watches from 2021 is comparable to twenty year old watches. This comes back to the sales process outlined in XX. "
   ]
  },
  {
   "cell_type": "code",
   "execution_count": 17,
   "metadata": {},
   "outputs": [],
   "source": [
    "## drop watches made before 1900, these are most likely wrong values\n",
    "df = df[df[\"Year of production\"] > 1900]"
   ]
  },
  {
   "cell_type": "code",
   "execution_count": 18,
   "metadata": {},
   "outputs": [
    {
     "data": {
      "text/plain": [
       "<seaborn.axisgrid.FacetGrid at 0x1e5c12e5e20>"
      ]
     },
     "execution_count": 18,
     "metadata": {},
     "output_type": "execute_result"
    },
    {
     "data": {
      "image/png": "[encoded data removed]",
      "text/plain": [
       "<Figure size 360x360 with 1 Axes>"
      ]
     },
     "metadata": {
      "needs_background": "light"
     },
     "output_type": "display_data"
    }
   ],
   "source": [
    "sns.relplot(x=\"Year of production\", y=\"price\", kind=\"line\", data=df)"
   ]
  },
  {
   "cell_type": "code",
   "execution_count": 19,
   "metadata": {},
   "outputs": [],
   "source": [
    "df['Decade'] = 0\n",
    "for i in range(190, 220):\n",
    "    start = i * 10\n",
    "    end = start + 10\n",
    "    df.loc[(df['Year of production'] >= start) & (df['Year of production'] < end), 'Decade'] = '{}s'.format(start)"
   ]
  },
  {
   "cell_type": "code",
   "execution_count": 20,
   "metadata": {},
   "outputs": [
    {
     "data": {
      "text/plain": [
       "<AxesSubplot:xlabel='Decade', ylabel='price'>"
      ]
     },
     "execution_count": 20,
     "metadata": {},
     "output_type": "execute_result"
    },
    {
     "data": {
      "image/png": "[encoded data removed]",
      "text/plain": [
       "<Figure size 1152x288 with 1 Axes>"
      ]
     },
     "metadata": {
      "needs_background": "light"
     },
     "output_type": "display_data"
    }
   ],
   "source": [
    "plt.figure(figsize=(16,4))\n",
    "sns.barplot(x=\"Decade\", y=\"price\", data=df.sort_values('Year of production'))"
   ]
  },
  {
   "cell_type": "markdown",
   "metadata": {},
   "source": [
    "## 1.9 Movement\n",
    "Watches with a Quartz movement are by far the most affordable. This is to be expected, since their production costs are only a fraction of a mechanical movement. The segment of quartz watches is dominated by low price fashion watches and there are only a handful of high-end manufacturers like Grand Seiko working with quartz movements. <br>\n",
    "It might seem strange that a hand-wound movement is almost \\\\$5000 more expensive compared to an autonatically wound movement. The reason for this is that manually wound movements are almost exclusively used in high-end, super thin dress watches of the most prestigious watch makers."
   ]
  },
  {
   "cell_type": "code",
   "execution_count": 21,
   "metadata": {},
   "outputs": [
    {
     "data": {
      "text/plain": [
       "Movement\n",
       "Manual winding    18245.503021\n",
       "Automatic         13764.442936\n",
       "Quartz             3586.709943\n",
       "Name: price, dtype: float64"
      ]
     },
     "execution_count": 21,
     "metadata": {},
     "output_type": "execute_result"
    }
   ],
   "source": [
    "df.groupby('Movement')['price'].mean().sort_values(ascending=False)"
   ]
  },
  {
   "cell_type": "markdown",
   "metadata": {},
   "source": [
    "## 1.10 Scope of Delivery\n",
    "Every watch collector knows that its important to keep the box and papers. <br>\n",
    "A watch without papers might be stolen or even a fake. <br>\n",
    "This shows up very clearly in the prices. While the original box is worth an additional 20%, having the corresponding papers increases the sale price by 77%. There are of course interdependencies, since owners are also more likely to keep box and papers for very expensive watches. "
   ]
  },
  {
   "cell_type": "code",
   "execution_count": 22,
   "metadata": {},
   "outputs": [
    {
     "data": {
      "text/plain": [
       "Scope of delivery\n",
       "Original box, original papers          14250.705308\n",
       "Original papers, no original box       14181.185560\n",
       "Original box, no original papers        9569.479060\n",
       "No original box, no original papers     8036.231294\n",
       "Name: price, dtype: float64"
      ]
     },
     "execution_count": 22,
     "metadata": {},
     "output_type": "execute_result"
    }
   ],
   "source": [
    "df.groupby('Scope of delivery')['price'].mean().sort_values(ascending=False)"
   ]
  },
  {
   "cell_type": "markdown",
   "metadata": {},
   "source": [
    "## 1.11 Crystal\n",
    "The price effect of the watch crystal is very straight forward. <br>\n",
    "With very few exceptions, all high-end watches use Sapphire crystals. <br>\n",
    "With the Omega Speedmaster as a notable exception, plexiglass is usually found in vintage models from the 80s and earlier. <br>\n",
    "Mineral glass is only used in more affordable fashion watches and very old models from the 60s and earlier."
   ]
  },
  {
   "cell_type": "code",
   "execution_count": 23,
   "metadata": {},
   "outputs": [
    {
     "data": {
      "text/plain": [
       "Crystal\n",
       "Sapphire crystal    13314.442280\n",
       "Plexiglass           7487.665214\n",
       "Mineral Glass        1397.666858\n",
       "Name: price, dtype: float64"
      ]
     },
     "execution_count": 23,
     "metadata": {},
     "output_type": "execute_result"
    }
   ],
   "source": [
    "df.groupby('Crystal')['price'].mean().sort_values(ascending=False)"
   ]
  },
  {
   "cell_type": "markdown",
   "metadata": {},
   "source": [
    "## 1.12 Complications\n",
    "The price of a complication depends on its difficulty. <br> \n",
    "Simple and more common complications like a date function or a second time zone command a premium of 12% and 45% respectively.<br>\n",
    "Very complicated and rare functions like a perpetual calendar or a flyback chronograph increase prices by 360% and 418%. <br>\n",
    "The king of all complications is the Tourbillon and the average watch with this complication costs a staggering \\\\$93600."
   ]
  },
  {
   "cell_type": "code",
   "execution_count": 24,
   "metadata": {},
   "outputs": [
    {
     "data": {
      "text/html": [
       "<div>\n",
       "<style scoped>\n",
       "    .dataframe tbody tr th:only-of-type {\n",
       "        vertical-align: middle;\n",
       "    }\n",
       "\n",
       "    .dataframe tbody tr th {\n",
       "        vertical-align: top;\n",
       "    }\n",
       "\n",
       "    .dataframe thead th {\n",
       "        text-align: right;\n",
       "    }\n",
       "</style>\n",
       "<table border=\"1\" class=\"dataframe\">\n",
       "  <thead>\n",
       "    <tr style=\"text-align: right;\">\n",
       "      <th></th>\n",
       "      <th>Date</th>\n",
       "      <th>Weekday</th>\n",
       "      <th>Month</th>\n",
       "      <th>Year</th>\n",
       "      <th>Chronograph</th>\n",
       "      <th>GMT</th>\n",
       "      <th>Tachymeter</th>\n",
       "      <th>Moon phase</th>\n",
       "      <th>Annual calendar</th>\n",
       "      <th>Perpetual calendar</th>\n",
       "      <th>Tourbillon</th>\n",
       "      <th>Flyback</th>\n",
       "      <th>Alarm</th>\n",
       "    </tr>\n",
       "  </thead>\n",
       "  <tbody>\n",
       "    <tr>\n",
       "      <th>0</th>\n",
       "      <td>11622.471265</td>\n",
       "      <td>12407.783430</td>\n",
       "      <td>12236.963896</td>\n",
       "      <td>12419.118345</td>\n",
       "      <td>11096.746641</td>\n",
       "      <td>12167.754502</td>\n",
       "      <td>12297.581657</td>\n",
       "      <td>11973.902933</td>\n",
       "      <td>12287.460345</td>\n",
       "      <td>12189.623194</td>\n",
       "      <td>12275.366718</td>\n",
       "      <td>12312.330141</td>\n",
       "      <td>12475.636468</td>\n",
       "    </tr>\n",
       "    <tr>\n",
       "      <th>1</th>\n",
       "      <td>13152.890327</td>\n",
       "      <td>14618.943175</td>\n",
       "      <td>26246.468788</td>\n",
       "      <td>15446.759406</td>\n",
       "      <td>18787.725556</td>\n",
       "      <td>17740.001142</td>\n",
       "      <td>18036.599469</td>\n",
       "      <td>39953.946556</td>\n",
       "      <td>39033.809384</td>\n",
       "      <td>44250.117647</td>\n",
       "      <td>93597.991597</td>\n",
       "      <td>51406.941176</td>\n",
       "      <td>18629.297297</td>\n",
       "    </tr>\n",
       "  </tbody>\n",
       "</table>\n",
       "</div>"
      ],
      "text/plain": [
       "           Date       Weekday         Month          Year   Chronograph  \\\n",
       "0  11622.471265  12407.783430  12236.963896  12419.118345  11096.746641   \n",
       "1  13152.890327  14618.943175  26246.468788  15446.759406  18787.725556   \n",
       "\n",
       "            GMT    Tachymeter    Moon phase  Annual calendar  \\\n",
       "0  12167.754502  12297.581657  11973.902933     12287.460345   \n",
       "1  17740.001142  18036.599469  39953.946556     39033.809384   \n",
       "\n",
       "   Perpetual calendar    Tourbillon       Flyback         Alarm  \n",
       "0        12189.623194  12275.366718  12312.330141  12475.636468  \n",
       "1        44250.117647  93597.991597  51406.941176  18629.297297  "
      ]
     },
     "execution_count": 24,
     "metadata": {},
     "output_type": "execute_result"
    }
   ],
   "source": [
    "functions = ['Date', 'Weekday', 'Month', 'Year', 'Chronograph', 'GMT', \n",
    "             'Tachymeter', 'Moon phase', 'Annual calendar', 'Perpetual calendar',\n",
    "             'Tourbillon', 'Flyback', 'Alarm']\n",
    "    \n",
    "functions_overview = pd.DataFrame(columns=functions)\n",
    "\n",
    "for i in [0,1]:\n",
    "    values = []\n",
    "    for function in functions:\n",
    "        v = df.loc[df['Movement'].isin(['Manual winding', 'Automatic']) & df[function] == i, 'price'].mean()\n",
    "        values.append(v)\n",
    "    functions_overview.loc[i] = values\n",
    "\n",
    "functions_overview"
   ]
  },
  {
   "cell_type": "code",
   "execution_count": 25,
   "metadata": {},
   "outputs": [
    {
     "data": {
      "text/html": [
       "<div>\n",
       "<style scoped>\n",
       "    .dataframe tbody tr th:only-of-type {\n",
       "        vertical-align: middle;\n",
       "    }\n",
       "\n",
       "    .dataframe tbody tr th {\n",
       "        vertical-align: top;\n",
       "    }\n",
       "\n",
       "    .dataframe thead th {\n",
       "        text-align: right;\n",
       "    }\n",
       "</style>\n",
       "<table border=\"1\" class=\"dataframe\">\n",
       "  <thead>\n",
       "    <tr style=\"text-align: right;\">\n",
       "      <th></th>\n",
       "      <th>Bracelet material</th>\n",
       "      <th>Brand</th>\n",
       "      <th>Case diameter</th>\n",
       "      <th>Case material</th>\n",
       "      <th>Condition</th>\n",
       "      <th>Dial</th>\n",
       "      <th>Gender</th>\n",
       "      <th>Model</th>\n",
       "      <th>Movement</th>\n",
       "      <th>Scope of delivery</th>\n",
       "      <th>...</th>\n",
       "      <th>Tachymeter</th>\n",
       "      <th>Moon phase</th>\n",
       "      <th>Annual calendar</th>\n",
       "      <th>Perpetual calendar</th>\n",
       "      <th>Tourbillon</th>\n",
       "      <th>Flyback</th>\n",
       "      <th>Alarm</th>\n",
       "      <th>Country</th>\n",
       "      <th>Diameter_group</th>\n",
       "      <th>Decade</th>\n",
       "    </tr>\n",
       "  </thead>\n",
       "  <tbody>\n",
       "    <tr>\n",
       "      <th>0</th>\n",
       "      <td>Steel</td>\n",
       "      <td>Bulgari</td>\n",
       "      <td>41.0</td>\n",
       "      <td>Steel</td>\n",
       "      <td>New</td>\n",
       "      <td>Black</td>\n",
       "      <td>Men's watch/Unisex</td>\n",
       "      <td>Octo</td>\n",
       "      <td>Automatic</td>\n",
       "      <td>Original box, original papers</td>\n",
       "      <td>...</td>\n",
       "      <td>0</td>\n",
       "      <td>0</td>\n",
       "      <td>0</td>\n",
       "      <td>0</td>\n",
       "      <td>0</td>\n",
       "      <td>0</td>\n",
       "      <td>0</td>\n",
       "      <td>United States of America</td>\n",
       "      <td>40-41</td>\n",
       "      <td>2020s</td>\n",
       "    </tr>\n",
       "    <tr>\n",
       "      <th>1</th>\n",
       "      <td>Steel</td>\n",
       "      <td>Tissot</td>\n",
       "      <td>39.0</td>\n",
       "      <td>Steel</td>\n",
       "      <td>New</td>\n",
       "      <td>Mother of pearl</td>\n",
       "      <td>Men's watch/Unisex</td>\n",
       "      <td>PR 100</td>\n",
       "      <td>Quartz</td>\n",
       "      <td>Original box, no original papers</td>\n",
       "      <td>...</td>\n",
       "      <td>0</td>\n",
       "      <td>0</td>\n",
       "      <td>0</td>\n",
       "      <td>0</td>\n",
       "      <td>0</td>\n",
       "      <td>0</td>\n",
       "      <td>0</td>\n",
       "      <td>Japan</td>\n",
       "      <td>38-39</td>\n",
       "      <td>2020s</td>\n",
       "    </tr>\n",
       "    <tr>\n",
       "      <th>2</th>\n",
       "      <td>Leather</td>\n",
       "      <td>Mido</td>\n",
       "      <td>41.0</td>\n",
       "      <td>Steel</td>\n",
       "      <td>New</td>\n",
       "      <td>Silver</td>\n",
       "      <td>Men's watch/Unisex</td>\n",
       "      <td>Belluna</td>\n",
       "      <td>Automatic</td>\n",
       "      <td>Original box, original papers</td>\n",
       "      <td>...</td>\n",
       "      <td>0</td>\n",
       "      <td>0</td>\n",
       "      <td>0</td>\n",
       "      <td>0</td>\n",
       "      <td>0</td>\n",
       "      <td>0</td>\n",
       "      <td>0</td>\n",
       "      <td>Japan</td>\n",
       "      <td>40-41</td>\n",
       "      <td>2020s</td>\n",
       "    </tr>\n",
       "    <tr>\n",
       "      <th>3</th>\n",
       "      <td>Steel</td>\n",
       "      <td>Mido</td>\n",
       "      <td>42.0</td>\n",
       "      <td>Steel</td>\n",
       "      <td>New</td>\n",
       "      <td>Black</td>\n",
       "      <td>Men's watch/Unisex</td>\n",
       "      <td>Multifort GMT</td>\n",
       "      <td>Automatic</td>\n",
       "      <td>Original box, original papers</td>\n",
       "      <td>...</td>\n",
       "      <td>0</td>\n",
       "      <td>0</td>\n",
       "      <td>0</td>\n",
       "      <td>0</td>\n",
       "      <td>0</td>\n",
       "      <td>0</td>\n",
       "      <td>0</td>\n",
       "      <td>Japan</td>\n",
       "      <td>42-43</td>\n",
       "      <td>2020s</td>\n",
       "    </tr>\n",
       "    <tr>\n",
       "      <th>4</th>\n",
       "      <td>Leather</td>\n",
       "      <td>Seiko</td>\n",
       "      <td>42.0</td>\n",
       "      <td>Steel</td>\n",
       "      <td>Unworn</td>\n",
       "      <td>Black</td>\n",
       "      <td>Men's watch/Unisex</td>\n",
       "      <td>Kinetic</td>\n",
       "      <td>Quartz</td>\n",
       "      <td>Original box, original papers</td>\n",
       "      <td>...</td>\n",
       "      <td>0</td>\n",
       "      <td>0</td>\n",
       "      <td>0</td>\n",
       "      <td>0</td>\n",
       "      <td>0</td>\n",
       "      <td>0</td>\n",
       "      <td>0</td>\n",
       "      <td>Japan</td>\n",
       "      <td>42-43</td>\n",
       "      <td>2020s</td>\n",
       "    </tr>\n",
       "  </tbody>\n",
       "</table>\n",
       "<p>5 rows × 30 columns</p>\n",
       "</div>"
      ],
      "text/plain": [
       "  Bracelet material    Brand  Case diameter Case material Condition  \\\n",
       "0             Steel  Bulgari           41.0         Steel       New   \n",
       "1             Steel   Tissot           39.0         Steel       New   \n",
       "2           Leather     Mido           41.0         Steel       New   \n",
       "3             Steel     Mido           42.0         Steel       New   \n",
       "4           Leather    Seiko           42.0         Steel    Unworn   \n",
       "\n",
       "              Dial              Gender          Model   Movement  \\\n",
       "0            Black  Men's watch/Unisex           Octo  Automatic   \n",
       "1  Mother of pearl  Men's watch/Unisex         PR 100     Quartz   \n",
       "2           Silver  Men's watch/Unisex        Belluna  Automatic   \n",
       "3            Black  Men's watch/Unisex  Multifort GMT  Automatic   \n",
       "4            Black  Men's watch/Unisex        Kinetic     Quartz   \n",
       "\n",
       "                  Scope of delivery  ...  Tachymeter  Moon phase  \\\n",
       "0     Original box, original papers  ...           0           0   \n",
       "1  Original box, no original papers  ...           0           0   \n",
       "2     Original box, original papers  ...           0           0   \n",
       "3     Original box, original papers  ...           0           0   \n",
       "4     Original box, original papers  ...           0           0   \n",
       "\n",
       "   Annual calendar Perpetual calendar  Tourbillon  Flyback  Alarm  \\\n",
       "0                0                  0           0        0      0   \n",
       "1                0                  0           0        0      0   \n",
       "2                0                  0           0        0      0   \n",
       "3                0                  0           0        0      0   \n",
       "4                0                  0           0        0      0   \n",
       "\n",
       "                    Country  Diameter_group  Decade  \n",
       "0  United States of America           40-41   2020s  \n",
       "1                     Japan           38-39   2020s  \n",
       "2                     Japan           40-41   2020s  \n",
       "3                     Japan           42-43   2020s  \n",
       "4                     Japan           42-43   2020s  \n",
       "\n",
       "[5 rows x 30 columns]"
      ]
     },
     "execution_count": 25,
     "metadata": {},
     "output_type": "execute_result"
    }
   ],
   "source": [
    "df = df.dropna()\n",
    "df.head()"
   ]
  },
  {
   "cell_type": "markdown",
   "metadata": {},
   "source": [
    "# 2 Price Regression"
   ]
  },
  {
   "cell_type": "code",
   "execution_count": 45,
   "metadata": {},
   "outputs": [],
   "source": [
    "from sklearn.model_selection import cross_val_score, GridSearchCV, RandomizedSearchCV, train_test_split\n",
    "from sklearn.compose import ColumnTransformer\n",
    "from sklearn.preprocessing import OneHotEncoder\n",
    "from sklearn.pipeline import Pipeline\n",
    "from sklearn.linear_model import LinearRegression, Ridge\n",
    "from sklearn.svm import SVR\n",
    "from sklearn.neural_network import MLPRegressor\n",
    "from sklearn.ensemble import RandomForestRegressor\n",
    "from category_encoders.binary import BinaryEncoder\n",
    "from category_encoders.target_encoder import TargetEncoder\n",
    "from catboost import CatBoostRegressor, Pool\n",
    "import time"
   ]
  },
  {
   "cell_type": "code",
   "execution_count": 28,
   "metadata": {},
   "outputs": [],
   "source": [
    "warnings.filterwarnings(\"ignore\", category=DeprecationWarning)"
   ]
  },
  {
   "cell_type": "code",
   "execution_count": 27,
   "metadata": {},
   "outputs": [],
   "source": [
    "categorical_var = ['Bracelet material', 'Brand', 'Case material',\n",
    "       'Condition', 'Dial', 'Gender', 'Model', 'Movement', 'Scope of delivery',\n",
    "       'private_seller', 'Crystal', 'Decade', 'Diameter_group', 'Country']"
   ]
  },
  {
   "cell_type": "markdown",
   "metadata": {},
   "source": [
    "## 2.1 First test of different classifiers\n",
    "In the first step, the categorical data has to be numerically encoded. <br>\n",
    "The default solution is a onehot dummy encoding. As a downside, this will result in a very large number of variables, making the regression much slower. <br>\n",
    "Binary and Target encoding are two viable alternatives resulting in significantly less variables. On the flipside, both methods will have some information loss compared to dummy encoding. In addition, linear regression models will have some problems with binary encoding, as they do not natively take variable interactions into account. With tree based models this problem is alleviated. <br>\n",
    "I test out three regression models:\n",
    "1. A simple linear regression model\n",
    "2. A linear regression model with regularization\n",
    "3. A decision-tree ensemble model (Random Forest)\n",
    "<br>\n",
    "<br>\n",
    "Out of the gate, the onehot encoded models have a very good performance. The models explain roughly 91% of the variance in watch prices. While the linear models are reasonably fast, the random forest regression takes over 4 minutes. <br>\n",
    "As expected, the linear models perform very badly with binary encoded features, with R² falling to 60%. The Random Forest Model performs only marginally worse but is 10 times faster than before. <br>\n",
    "Target encoding offers the best balance between accuracy and performance. The speed of all three models doubles compared to binary encoding. While the R² of the linear models (86%) is still lower compared to onehot encoding, the Random Forest Models shows the highest accuracy yet with an R² of over 92%."
   ]
  },
  {
   "cell_type": "code",
   "execution_count": 30,
   "metadata": {
    "scrolled": true
   },
   "outputs": [
    {
     "name": "stdout",
     "output_type": "stream",
     "text": [
      "onehot\n",
      "LinearRegression(). Score: 0.9104725960573994. Time: 4.6171979904174805s\n",
      "Ridge(random_state=13). Score: 0.9119378152861796. Time: 0.4790327548980713s\n",
      "RandomForestRegressor(random_state=13). Score: 0.9178676008415365. Time: 242.4446930885315s\n",
      "\n",
      "binary\n",
      "LinearRegression(). Score: 0.605103068218687. Time: 1.5022521018981934s\n",
      "Ridge(random_state=13). Score: 0.6050997872025551. Time: 1.3432209491729736s\n",
      "RandomForestRegressor(random_state=13). Score: 0.9017556061777985. Time: 23.66302490234375s\n",
      "\n",
      "target\n",
      "LinearRegression(). Score: 0.8613299304404158. Time: 0.5921528339385986s\n",
      "Ridge(random_state=13). Score: 0.8613253535691582. Time: 0.5440030097961426s\n",
      "RandomForestRegressor(random_state=13). Score: 0.926502884093648. Time: 12.1203293800354s\n",
      "\n",
      "Wall time: 4min 47s\n"
     ]
    }
   ],
   "source": [
    "%%time\n",
    "\n",
    "X = df[categorical_var + functions]\n",
    "y = np.log(df['price'])\n",
    "\n",
    "transformer = ColumnTransformer([\n",
    "        ('cat', OneHotEncoder(handle_unknown='ignore'), categorical_var),\n",
    "    ], remainder='passthrough')\n",
    "\n",
    "\n",
    "transformers = [\n",
    "    ColumnTransformer([('onehot', OneHotEncoder(handle_unknown='ignore'), categorical_var)], remainder='passthrough'),\n",
    "    ColumnTransformer([('binary', BinaryEncoder(), categorical_var)], remainder='passthrough'),\n",
    "    ColumnTransformer([('target', TargetEncoder(), categorical_var)], remainder='passthrough'),\n",
    "]\n",
    "\n",
    "models = [\n",
    "    LinearRegression(),\n",
    "    Ridge(random_state=13),\n",
    "    RandomForestRegressor(random_state=13)\n",
    "]\n",
    "\n",
    "\n",
    "for transformer in transformers:\n",
    "    print(transformer.transformers[0][0])\n",
    "    for model in models:\n",
    "        start_time = time.time()\n",
    "        pipe = Pipeline([('tf', transformer), ('model', model)])\n",
    "        scores = cross_val_score(pipe, X, y, cv=5, n_jobs=5)\n",
    "        print('{}. Score: {}. Time: {}s'.format(model, np.mean(scores), time.time() - start_time))\n",
    "    print()"
   ]
  },
  {
   "cell_type": "markdown",
   "metadata": {},
   "source": [
    "## 2.2 Gradient Boosting\n",
    "It might be possible to increase accuracy even more with gradient boosting. <br>\n",
    "I use the CatBoost algorithm as an implementation of gradient boosting. The catboost package comes with two very useful features. First of all it supports calculation on GPU natively, which significantly speeds of calculation. Secondly, encoding is handled internally and allows for easy output of feature importance. <br>\n",
    "<br>\n",
    "After 2000 iterations CatBoost achieves an accuracy of 90%. <br>\n",
    "As expected, the brand and model are by far the most important features to determine the price of a watch. Most brands have a certain price region in which they operate: for example Seiko in the entry level region below \\\\$1000, Rolex and Omega in the upper middle class between \\\\$5000 and \\\\$10000 and Patek Phillipe in the high end above \\\\$30000. <br>\n",
    "The specific model already subsumes a lot of information from the other features. One model will usually only have one or very few different values for each feature. For example, a Rolex Day-Date will always have an automatic movement, a gold or platinum case and a perpetual calendar complication. <br>\n",
    "This explains why most complications have a low feature importance, since they are usually very model specific. "
   ]
  },
  {
   "cell_type": "code",
   "execution_count": 32,
   "metadata": {},
   "outputs": [],
   "source": [
    "df['private_seller'] = df['private_seller'].astype(int)"
   ]
  },
  {
   "cell_type": "code",
   "execution_count": 61,
   "metadata": {},
   "outputs": [
    {
     "name": "stdout",
     "output_type": "stream",
     "text": [
      "Wall time: 5min 6s\n"
     ]
    },
    {
     "data": {
      "text/plain": [
       "0.8954716431936014"
      ]
     },
     "execution_count": 61,
     "metadata": {},
     "output_type": "execute_result"
    }
   ],
   "source": [
    "%%time\n",
    "\n",
    "X = df[categorical_var + functions]\n",
    "y = np.log(df['price'])\n",
    "\n",
    "\n",
    "model = CatBoostRegressor(cat_features=categorical_var, iterations=2000, random_state=13, task_type='GPU', devices='0:1', early_stopping_rounds=10, verbose=False)\n",
    "\n",
    "\n",
    "np.mean(cross_val_score(model, X, y, cv=5, n_jobs=1))"
   ]
  },
  {
   "cell_type": "code",
   "execution_count": 60,
   "metadata": {},
   "outputs": [
    {
     "name": "stdout",
     "output_type": "stream",
     "text": [
      "Wall time: 492 ms\n"
     ]
    },
    {
     "data": {
      "text/plain": [
       "<AxesSubplot:xlabel='feature', ylabel='importance'>"
      ]
     },
     "execution_count": 60,
     "metadata": {},
     "output_type": "execute_result"
    },
    {
     "data": {
      "image/png": "[encoded data removed]",
      "text/plain": [
       "<Figure size 1152x360 with 1 Axes>"
      ]
     },
     "metadata": {
      "needs_background": "light"
     },
     "output_type": "display_data"
    }
   ],
   "source": [
    "%%time\n",
    "\n",
    "X_train, X_test, y_train, y_test = train_test_split(X, y, test_size=0.2, random_state=13)\n",
    "pool = Pool(X_train, label=y_train, cat_features=categorical_var)\n",
    "fi = model.get_feature_importance(pool)\n",
    "\n",
    "df_fi = pd.DataFrame({\n",
    "    'feature': X.columns,\n",
    "    'importance': fi\n",
    "})\n",
    "\n",
    "plt.figure(figsize=(16,5))\n",
    "plt.xticks(rotation=90)\n",
    "sns.barplot(x='feature', y='importance', data=df_fi.sort_values('importance', ascending=False))"
   ]
  },
  {
   "cell_type": "markdown",
   "metadata": {},
   "source": [
    "## 2.3 Hyperparameter tuning for Random Forest\n",
    "The random forest regression has delivered the best results so far. <br>\n",
    "I try to optimize the model by tuning the hyperparameters. Since the model takes a fairly long time to run, I use a randomized search grid. <br>\n",
    "With the optimized parameters, the model improves only slightly by 0.02%. The base parameters seem to be very close to ideal already."
   ]
  },
  {
   "cell_type": "code",
   "execution_count": 32,
   "metadata": {},
   "outputs": [
    {
     "name": "stdout",
     "output_type": "stream",
     "text": [
      "Fitting 3 folds for each of 100 candidates, totalling 300 fits\n",
      "{'model__n_estimators': 1000, 'model__min_samples_split': 2, 'model__min_samples_leaf': 1, 'model__max_features': 'auto', 'model__max_depth': 50}\n",
      "0.9225235672362465\n",
      "Wall time: 22min 4s\n"
     ]
    }
   ],
   "source": [
    "%%time\n",
    "\n",
    "X = df[categorical_var + functions]\n",
    "y = np.log(df['price'])\n",
    "\n",
    "params = [\n",
    "    {'model__max_depth': [10, 50, 100, None],\n",
    "     'model__max_features': ['auto', 'log2'],\n",
    "     'model__min_samples_leaf': [1, 2],\n",
    "     'model__min_samples_split': [2, 5, 10],\n",
    "     'model__n_estimators': [100, 200, 500, 1000]}]\n",
    "\n",
    "\n",
    "transformer = ColumnTransformer([\n",
    "        ('cat', TargetEncoder(), categorical_var),\n",
    "    ], remainder='passthrough')\n",
    "\n",
    "\n",
    "pipe = Pipeline([('tf', transformer), ('model',RandomForestRegressor(random_state=13))])\n",
    "\n",
    "grid = RandomizedSearchCV(estimator=pipe,\n",
    "             param_distributions=params, n_jobs=5, n_iter=100, cv=3, verbose=1, random_state=13)\n",
    "\n",
    "grid.fit(X, y)\n",
    "\n",
    "print(grid.best_params_)\n",
    "print(grid.best_score_)"
   ]
  },
  {
   "cell_type": "code",
   "execution_count": 34,
   "metadata": {},
   "outputs": [
    {
     "name": "stdout",
     "output_type": "stream",
     "text": [
      "Wall time: 4.81 s\n"
     ]
    },
    {
     "data": {
      "text/plain": [
       "0.9267709023731487"
      ]
     },
     "execution_count": 34,
     "metadata": {},
     "output_type": "execute_result"
    }
   ],
   "source": [
    "%%time\n",
    "\n",
    "X = df[categorical_var + functions]\n",
    "y = np.log(df['price'])\n",
    "\n",
    "transformer = ColumnTransformer([\n",
    "        ('cat', TargetEncoder(), categorical_var),\n",
    "    ], remainder='passthrough')\n",
    "\n",
    "pipe = Pipeline([('tf', transformer), ('model',RandomForestRegressor(random_state=13, \n",
    "                                                                     n_estimators=100, \n",
    "                                                                     min_samples_split=2, \n",
    "                                                                     min_samples_leaf=1, \n",
    "                                                                     max_features='log2', \n",
    "                                                                     max_depth=50))])\n",
    "\n",
    "np.mean(cross_val_score(pipe, X, y, cv=5, n_jobs=5))"
   ]
  }
 ],
 "metadata": {
  "kernelspec": {
   "display_name": "Python 3",
   "language": "python",
   "name": "python3"
  },
  "language_info": {
   "codemirror_mode": {
    "name": "ipython",
    "version": 3
   },
   "file_extension": ".py",
   "mimetype": "text/x-python",
   "name": "python",
   "nbconvert_exporter": "python",
   "pygments_lexer": "ipython3",
   "version": "3.8.8"
  }
 },
 "nbformat": 4,
 "nbformat_minor": 4
}
